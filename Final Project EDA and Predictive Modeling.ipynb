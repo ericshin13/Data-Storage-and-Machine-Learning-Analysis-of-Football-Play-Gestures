{
 "cells": [
  {
   "cell_type": "markdown",
   "metadata": {
    "application/vnd.databricks.v1+cell": {
     "cellMetadata": {},
     "inputWidgets": {},
     "nuid": "422b4cb0-fd2d-4455-a39f-bcf5556866a8",
     "showTitle": false,
     "tableResultSettingsMap": {},
     "title": ""
    }
   },
   "source": [
    "# Joining Tables Together and Engineering New Features"
   ]
  },
  {
   "cell_type": "markdown",
   "metadata": {
    "application/vnd.databricks.v1+cell": {
     "cellMetadata": {},
     "inputWidgets": {},
     "nuid": "9921cfd5-b18a-45cc-aba1-7a8916743f99",
     "showTitle": false,
     "tableResultSettingsMap": {},
     "title": ""
    }
   },
   "source": [
    "In this query, I performed several feature engineering steps while joining tables containing user, gesture, and sensor data. The goal was to create meaningful input features for gesture classification."
   ]
  },
  {
   "cell_type": "markdown",
   "metadata": {
    "application/vnd.databricks.v1+cell": {
     "cellMetadata": {},
     "inputWidgets": {},
     "nuid": "475a40ed-dd57-4d5f-9bb6-4edac54095f0",
     "showTitle": false,
     "tableResultSettingsMap": {},
     "title": ""
    }
   },
   "source": [
    "**Averaged Sensor Measurements**\n",
    "\n",
    "For each signal recording, I calculated the average of each sensor dimension (acceleration, gravity, and rotation).\n",
    "\n",
    "Why it helps: These aggregates provide a compact summary of the gesture's motion characteristics. Rather than feeding raw time-series data, which can be high-dimensional and noisy, these summary statistics give a stable, interpretable signal that differentiates gestures.\n",
    "\n",
    "Assumption: Different gestures should produce distinguishable average values across these sensor axes."
   ]
  },
  {
   "cell_type": "markdown",
   "metadata": {
    "application/vnd.databricks.v1+cell": {
     "cellMetadata": {},
     "inputWidgets": {},
     "nuid": "3a4a061b-c9c3-4773-80a8-876670368d0b",
     "showTitle": false,
     "tableResultSettingsMap": {},
     "title": ""
    }
   },
   "source": [
    "**Gesture Duration in Seconds**\n",
    "\n",
    "What it is: Converts the gesture duration from milliseconds to seconds for better readability and scale compatibility.\n",
    "\n",
    "Why it helps: Gesture duration may be a key differentiator. Some gestures may naturally take longer than others. Using seconds makes this feature more interpretable."
   ]
  },
  {
   "cell_type": "markdown",
   "metadata": {
    "application/vnd.databricks.v1+cell": {
     "cellMetadata": {},
     "inputWidgets": {},
     "nuid": "eb0d8427-b821-4984-830a-b9193dc69cda",
     "showTitle": false,
     "tableResultSettingsMap": {},
     "title": ""
    }
   },
   "source": [
    "**Hour When Signal was Recorded**\n",
    "\n",
    "What it is: Extracts the hour (0–23) when the signal was recorded.\n",
    "\n",
    "Why it helps: Time-of-day could correlate with user behavior or performance (such as different gesture styles in morning vs. evening), which might indirectly help classification. Useful for capturing potential circadian patterns or session structure."
   ]
  },
  {
   "cell_type": "code",
   "execution_count": 0,
   "metadata": {
    "application/vnd.databricks.v1+cell": {
     "cellMetadata": {
      "byteLimit": 2048000,
      "implicitDf": true,
      "rowLimit": 10000
     },
     "inputWidgets": {},
     "nuid": "4239fdd2-7ffb-4329-bb4e-bfe4be8acb41",
     "showTitle": false,
     "tableResultSettingsMap": {
      "0": {
       "dataGridStateBlob": "{\"version\":1,\"tableState\":{\"columnPinning\":{\"left\":[\"#row_number#\"],\"right\":[]},\"columnSizing\":{},\"columnVisibility\":{}},\"settings\":{\"columns\":{}},\"syncTimestamp\":1753501934870}",
       "filterBlob": null,
       "queryPlanFiltersBlob": null,
       "tableResultIndex": 0
      }
     },
     "title": ""
    }
   },
   "outputs": [
    {
     "output_type": "display_data",
     "data": {
      "text/html": [
       "<style scoped>\n",
       "  .table-result-container {\n",
       "    max-height: 300px;\n",
       "    overflow: auto;\n",
       "  }\n",
       "  table, th, td {\n",
       "    border: 1px solid black;\n",
       "    border-collapse: collapse;\n",
       "  }\n",
       "  th, td {\n",
       "    padding: 5px;\n",
       "  }\n",
       "  th {\n",
       "    text-align: left;\n",
       "  }\n",
       "</style><div class='table-result-container'><table class='table-result'><thead style='background-color: white'><tr><th>gesture_play</th><th>gesture</th><th>signal_ID</th><th>play_ID</th><th>user_ID</th><th>time_stamp</th><th>avg_accel_x</th><th>avg_accel_y</th><th>avg_accel_z</th><th>avg_grav_x</th><th>avg_grav_y</th><th>avg_grav_z</th><th>avg_rot_alpha</th><th>avg_rot_beta</th><th>avg_rot_gamma</th><th>duration_seconds</th><th>signal_hour</th></tr></thead><tbody><tr><td>Collapse Left</td><td><</td><td>O6BXBNcgv1f3Usl7FV9q</td><td>collapse_left</td><td>EMr3nqqL6ygD1MYdgxrJosFUzn63</td><td>2025-07-12T17:15:49.242Z</td><td>-0.2744148801198791</td><td>0.5688674062090496</td><td>-0.5183392896635901</td><td>-0.9088188877734559</td><td>-5.753241456339878</td><td>-6.433874007840571</td><td>-17.143533027124338</td><td>11.159923833110668</td><td>7.402687095795068</td><td>3.467</td><td>17</td></tr><tr><td>Collapse Left</td><td><</td><td>xnQr3xdH4SP8uEb33vCg</td><td>collapse_left</td><td>A7P5QM0SuEh30sbaJVr4DwwQvpz2</td><td>2025-06-15T02:40:59.211Z</td><td>0.05899280575539578</td><td>-0.2820143884892087</td><td>0.8467625899280575</td><td>-1.1661870503597127</td><td>8.37122302158274</td><td>3.199280575539569</td><td>-17.58129496402879</td><td>-6.6115107913669044</td><td>-15.879136690647483</td><td>2.374</td><td>2</td></tr><tr><td>Touchdown Halo</td><td>O (Circle x2)</td><td>QSsHQYIanuigPYEPpprt</td><td>touchdown_halo</td><td>yyJqKEAv0qZCzmksNJA26VVizfE3</td><td>2025-06-15T02:41:51.791Z</td><td>0.031042974131277143</td><td>0.44517306945517615</td><td>-0.9098444805097645</td><td>-0.12872064767093466</td><td>-8.572632559153682</td><td>-3.2107645940917666</td><td>2.8337223515959344</td><td>-2.155986236968474</td><td>8.01812525587317</td><td>4.341</td><td>2</td></tr><tr><td>Collapse Left</td><td><</td><td>UqxGJUKKSdqQISJWJWG9</td><td>collapse_left</td><td>SlZVgkV1ElRlZJs1t5UE4rr99vE3</td><td>2025-06-15T02:50:37.551Z</td><td>-0.7891413799413156</td><td>2.475497610204855</td><td>-1.9667526826358583</td><td>-0.8387745401522936</td><td>-3.9030277549547567</td><td>-7.210103988457737</td><td>-50.32573698850957</td><td>4.804428293408731</td><td>4.246899301803691</td><td>1.839</td><td>2</td></tr><tr><td>Touchdown Halo</td><td>O (Circle x2)</td><td>z7QhU8w2GZhAjkiEC1Ed</td><td>touchdown_halo</td><td>PIYoM7g2NPeWCyJzADmC8Q3AoNU2</td><td>2025-07-26T01:12:29.863Z</td><td>-0.5878729766514252</td><td>3.7738290268858665</td><td>-4.354251827227095</td><td>-2.202545811082349</td><td>-0.6286572137677654</td><td>-9.71811965304495</td><td>4.23067437022156</td><td>-48.11536975764149</td><td>53.12280951834883</td><td>4.407</td><td>1</td></tr><tr><td>Irish Surge</td><td>N</td><td>R3XJrzlmIIY2hm0nlZmU</td><td>irish_surge</td><td>SlZVgkV1ElRlZJs1t5UE4rr99vE3</td><td>2025-06-15T02:51:10.901Z</td><td>-1.8404924925764612</td><td>5.3336821992997345</td><td>-3.0843852562355316</td><td>-2.3617486348910104</td><td>-1.7672721800122662</td><td>-7.453046918067675</td><td>16.595611551728737</td><td>-11.854678826268984</td><td>-7.783212779446158</td><td>2.171</td><td>2</td></tr><tr><td>Touchdown Halo</td><td>O (Circle x2)</td><td>vAjkZDQd0AGdrGz29QFk</td><td>touchdown_halo</td><td>PIYoM7g2NPeWCyJzADmC8Q3AoNU2</td><td>2025-07-19T20:07:00.23Z</td><td>-0.32898998113102873</td><td>1.186818859621206</td><td>-1.746957989236718</td><td>-4.1537165646902166</td><td>-5.866911921607824</td><td>-5.648683552987162</td><td>-4.054433787274606</td><td>-13.789582309177217</td><td>15.939561316790131</td><td>4.933</td><td>20</td></tr><tr><td>Touchdown Halo</td><td>O (Circle x2)</td><td>UXMV6c0NqbXMzuasNl9G</td><td>touchdown_halo</td><td>A7P5QM0SuEh30sbaJVr4DwwQvpz2</td><td>2025-06-15T02:42:42.387Z</td><td>-0.4303738317757011</td><td>-1.022429906542056</td><td>3.1042056074766347</td><td>-1.3864485981308414</td><td>7.712149532710283</td><td>4.552336448598132</td><td>-5.4518691588785115</td><td>-7.897196261682253</td><td>26.544392523364493</td><td>3.61</td><td>2</td></tr><tr><td>Touchdown Halo</td><td>O (Circle x2)</td><td>y7TAmPnBgwd1ZgINn8cz</td><td>touchdown_halo</td><td>PIYoM7g2NPeWCyJzADmC8Q3AoNU2</td><td>2025-07-20T02:22:17.587Z</td><td>0.16550708553727386</td><td>2.834210940070822</td><td>-2.7845204530123664</td><td>-4.004873090296024</td><td>-0.33360553584589253</td><td>-6.749921771052705</td><td>-19.25711725466585</td><td>-64.88656584599369</td><td>26.621482398213857</td><td>5.007</td><td>2</td></tr><tr><td>Touchdown Halo</td><td>O (Circle x2)</td><td>QEqMJU9LO40yGnN4kldc</td><td>touchdown_halo</td><td>yyJqKEAv0qZCzmksNJA26VVizfE3</td><td>2025-06-15T02:46:46.372Z</td><td>0.10187662268921838</td><td>1.1582074955014356</td><td>-2.0431824765242736</td><td>-0.34947937019253095</td><td>-6.913475810511982</td><td>-6.337332011673037</td><td>1.3230819722320153</td><td>-11.81050958634153</td><td>21.208874198902066</td><td>3.202</td><td>2</td></tr><tr><td>Irish Surge</td><td>N</td><td>OQIZtfDnIJhYJEkCpiof</td><td>irish_surge</td><td>A7P5QM0SuEh30sbaJVr4DwwQvpz2</td><td>2025-06-15T02:41:24.374Z</td><td>-0.5863636363636363</td><td>-0.44292929292929323</td><td>1.502525252525252</td><td>-0.1489898989898993</td><td>8.962626262626255</td><td>2.4525252525252523</td><td>10.789898989898989</td><td>-9.770707070707072</td><td>-4.297979797979799</td><td>3.262</td><td>2</td></tr><tr><td>Collapse Left</td><td><</td><td>zXrKF0R3HdNp06LYdJvq</td><td>collapse_left</td><td>PIYoM7g2NPeWCyJzADmC8Q3AoNU2</td><td>2025-07-20T02:21:01.136Z</td><td>-0.27656727319546087</td><td>1.2905866229376755</td><td>-1.3664116756747098</td><td>-0.4046012117107728</td><td>-4.498768274616432</td><td>-6.6669609024437015</td><td>-27.693038364272596</td><td>4.043044257014831</td><td>-5.8225217469609</td><td>3.185</td><td>2</td></tr><tr><td>Irish Surge</td><td>N</td><td>R3unQo8t9UOqOhAxvZUL</td><td>irish_surge</td><td>sNDSCcBtCDbGlzCaRwVVOFfQDTF2</td><td>2025-06-17T01:30:59.617Z</td><td>-0.29237267605637535</td><td>3.0732344803447615</td><td>-3.038668457495627</td><td>0.2706777611627611</td><td>-3.939775827934983</td><td>-7.851817075242288</td><td>19.95620609183341</td><td>0.9612133965869962</td><td>-1.1299465662539703</td><td>2.109</td><td>1</td></tr><tr><td>Collapse Left</td><td><</td><td>uY0UVdKtQHazagHowosP</td><td>collapse_left</td><td>EMr3nqqL6ygD1MYdgxrJosFUzn63</td><td>2025-06-28T15:33:25.852Z</td><td>-0.27172327017042636</td><td>0.6101198641571901</td><td>-0.3770284333494311</td><td>-1.4789681494021674</td><td>-4.120561265884602</td><td>-7.931275559355684</td><td>-7.007304725610044</td><td>9.321410888528334</td><td>8.30190671576947</td><td>5.012</td><td>15</td></tr><tr><td>Collapse Left</td><td><</td><td>uNkKns3tE5u3u5pUZPM7</td><td>collapse_left</td><td>PIYoM7g2NPeWCyJzADmC8Q3AoNU2</td><td>2025-07-26T01:13:10.925Z</td><td>-1.0783869773958203</td><td>2.771617299329534</td><td>-1.5517499323694812</td><td>-1.8264708831040617</td><td>0.20255941420384163</td><td>-9.328298250332278</td><td>-21.745758010527148</td><td>-3.336632415491978</td><td>-12.638724088884082</td><td>2.756</td><td>1</td></tr><tr><td>Touchdown Halo</td><td>O (Circle x2)</td><td>SxNqWzDker7DeEP4uKD4</td><td>touchdown_halo</td><td>sNDSCcBtCDbGlzCaRwVVOFfQDTF2</td><td>2025-06-17T13:28:51.686Z</td><td>-0.03984762832412275</td><td>1.2016062956897118</td><td>-2.4554827379908137</td><td>0.18162602685046772</td><td>-7.236302916976469</td><td>-5.513625851031247</td><td>1.6143227592576201</td><td>-7.679544814211634</td><td>32.274273133974404</td><td>4.416</td><td>13</td></tr><tr><td>Touchdown Halo</td><td>O (Circle x2)</td><td>UMTXJmkUReTTi0LTPuf2</td><td>touchdown_halo</td><td>PIYoM7g2NPeWCyJzADmC8Q3AoNU2</td><td>2025-07-26T01:11:20.97Z</td><td>-0.7098409181549473</td><td>1.3566776055102168</td><td>-2.922372436850376</td><td>-2.889357583956245</td><td>-5.781456140253178</td><td>-6.342335999961581</td><td>-0.0365243940738766</td><td>-12.10054660093622</td><td>31.2149736933556</td><td>4.587</td><td>1</td></tr><tr><td>Collapse Left</td><td><</td><td>VUx4zBcVnF36ogGtXm3V</td><td>collapse_left</td><td>mvMEQgMQXBg4rZzOLhmqdGbOPXk1</td><td>2025-07-20T19:53:17.536Z</td><td>0.004444478581731272</td><td>0.032646438831238855</td><td>-0.21886018477669836</td><td>0.08572627168643246</td><td>-9.549796335967029</td><td>-2.075715086986369</td><td>-5.843779926714306</td><td>3.1645734344833603</td><td>-2.5433462080169305</td><td>2.396</td><td>19</td></tr><tr><td>Touchdown Halo</td><td>O (Circle x2)</td><td>W7z1ZwV9E9D1OOhcN8l5</td><td>touchdown_halo</td><td>jUmt1zPgyZORPZuC55z8aeGyMqJ2</td><td>2025-06-15T02:45:05.707Z</td><td>1.8558673469387752</td><td>-4.906377551020407</td><td>0.013265306122449385</td><td>6.383418367346943</td><td>-0.543622448979591</td><td>0.3530612244898008</td><td>8.488010204081629</td><td>-4.485969387755088</td><td>-6.509948979591828</td><td>3.775</td><td>2</td></tr><tr><td>Collapse Left</td><td><</td><td>wH8FpscdI1uMm7VUPM7d</td><td>collapse_left</td><td>A7P5QM0SuEh30sbaJVr4DwwQvpz2</td><td>2025-06-15T02:44:02.482Z</td><td>0.05511811023622032</td><td>0.021259842519684925</td><td>0.47007874015748036</td><td>-0.9015748031496063</td><td>8.565354330708663</td><td>3.8992125984251955</td><td>-16.34488188976379</td><td>0.6779527559055122</td><td>-13.019685039370076</td><td>2.141</td><td>2</td></tr><tr><td>Collapse Left</td><td><</td><td>uPLF6YLEWwTW05SAweDR</td><td>collapse_left</td><td>SlZVgkV1ElRlZJs1t5UE4rr99vE3</td><td>2025-06-15T02:50:46.316Z</td><td>-0.558809616758729</td><td>2.1806914980373455</td><td>-1.8589801704454598</td><td>-1.0839495026150419</td><td>-4.977105717307285</td><td>-6.5242213915660985</td><td>-53.02685097605645</td><td>7.509278812853455</td><td>4.532678586209181</td><td>1.666</td><td>2</td></tr><tr><td>Touchdown Halo</td><td>O (Circle x2)</td><td>wALxivXMUCv2CFwtfAA1</td><td>touchdown_halo</td><td>sNDSCcBtCDbGlzCaRwVVOFfQDTF2</td><td>2025-07-10T23:12:31.12Z</td><td>0.021460162275337837</td><td>0.57925252464748</td><td>-1.236305664478287</td><td>0.06015624006475405</td><td>-8.65149366235442</td><td>-3.504816809226568</td><td>1.7787582219481952</td><td>-7.0762387632716255</td><td>8.355767730079801</td><td>4.156</td><td>23</td></tr><tr><td>Irish Surge</td><td>N</td><td>OVStDBpuuusBGpgA0XrW</td><td>irish_surge</td><td>sNDSCcBtCDbGlzCaRwVVOFfQDTF2</td><td>2025-06-27T02:33:50.127Z</td><td>-0.32200906252479833</td><td>1.8949646985180746</td><td>-1.3769196436583324</td><td>-1.0800020179799474</td><td>-6.131980418555598</td><td>-4.812926966877945</td><td>2.122140216446455</td><td>32.5652810074225</td><td>7.206269249796246</td><td>4.86</td><td>2</td></tr><tr><td>Irish Surge</td><td>N</td><td>ugnbauerxQmmoXngzEJh</td><td>irish_surge</td><td>mvMEQgMQXBg4rZzOLhmqdGbOPXk1</td><td>2025-07-20T19:53:32.723Z</td><td>-0.03048878397907629</td><td>0.07665740452410637</td><td>-0.34888211362677907</td><td>0.4224391576814182</td><td>-9.379118940993248</td><td>-2.4765481959114077</td><td>6.015555004743119</td><td>-3.804396186283923</td><td>-2.767495253041525</td><td>2.671</td><td>19</td></tr><tr><td>Collapse Left</td><td><</td><td>T8NZZw6habKJA4hhCkWo</td><td>collapse_left</td><td>3T02i8MvMYV0f7Xz7MCnvyLMpLG3</td><td>2025-07-10T14:52:15.552Z</td><td>0.0867760740224559</td><td>0.26386529284181987</td><td>-0.5467424296799535</td><td>-0.15874897153096898</td><td>-8.996968456872812</td><td>-2.59552891810729</td><td>-11.209872644473243</td><td>-2.211464477661841</td><td>-5.178985984560956</td><td>2.866</td><td>14</td></tr><tr><td>Irish Surge</td><td>N</td><td>Vqap4JRBFqFsOBG05qqJ</td><td>irish_surge</td><td>A7P5QM0SuEh30sbaJVr4DwwQvpz2</td><td>2025-06-15T02:41:46.681Z</td><td>-0.17884615384615402</td><td>-0.5019230769230767</td><td>1.4993589743589746</td><td>0.5467948717948721</td><td>8.916025641025632</td><td>1.2205128205128195</td><td>17.423717948717965</td><td>-11.848076923076924</td><td>-6.741666666666672</td><td>2.637</td><td>2</td></tr><tr><td>Touchdown Halo</td><td>O (Circle x2)</td><td>vPnHkh52wx0heZcfNJVI</td><td>touchdown_halo</td><td>n13pC0Eu2wgFT7kDPFO9mI7bJnJ2</td><td>2025-06-29T00:53:41.725Z</td><td>0.15140985868261791</td><td>0.7456883830220782</td><td>-1.0795182292345733</td><td>0.6986448025594395</td><td>-4.2094555931883</td><td>-8.974944238253725</td><td>9.857917558647175</td><td>9.71480475301966</td><td>-16.336599494934415</td><td>5.007</td><td>0</td></tr><tr><td>Collapse Left</td><td><</td><td>w99zw1lrfNnBL3S0eemS</td><td>collapse_left</td><td>jUmt1zPgyZORPZuC55z8aeGyMqJ2</td><td>2025-06-15T02:45:28.782Z</td><td>0.5145945945945956</td><td>-2.6902702702702683</td><td>0.0529729729729736</td><td>1.7513513513513492</td><td>1.2502702702702713</td><td>8.238378378378382</td><td>-13.244324324324333</td><td>8.794054054054055</td><td>5.334054054054071</td><td>1.856</td><td>2</td></tr><tr><td>Collapse Left</td><td><</td><td>sfs0aWo7ilPkri3Y3BPM</td><td>collapse_left</td><td>Q55o2vIYKiOHUpN7hQk5oQEPrDd2</td><td>2025-07-25T16:10:19.728Z</td><td>0.019699236510310164</td><td>-0.020957591809317257</td><td>0.08144932157883296</td><td>-0.1181850533310936</td><td>9.634866624526513</td><td>1.060055617327116</td><td>-5.381329943570469</td><td>2.015401908094498</td><td>-0.520483008561312</td><td>3.98</td><td>16</td></tr><tr><td>Touchdown Halo</td><td>O (Circle x2)</td><td>dcxdC4EUjlbx27wC9yxq</td><td>touchdown_halo</td><td>WeNzNivJuegep48EQna4cuQQFcg1</td><td>2025-07-22T00:27:02.812Z</td><td>0.008227945214337017</td><td>0.15412281915460307</td><td>-0.48075118776921716</td><td>-0.2599943746145457</td><td>-9.549966330685614</td><td>-1.2286981372269192</td><td>-1.3420625175359842</td><td>0.13282649211638078</td><td>2.8342336442905105</td><td>4.146</td><td>0</td></tr><tr><td>Touchdown Halo</td><td>O (Circle x2)</td><td>CMm8sLBOUW38WWCesZIc</td><td>touchdown_halo</td><td>PIYoM7g2NPeWCyJzADmC8Q3AoNU2</td><td>2025-07-26T01:12:43.029Z</td><td>-0.3608095939925161</td><td>3.958277273409507</td><td>-4.141952474397828</td><td>-2.0175726008457495</td><td>0.3955886234848099</td><td>-9.743558428134174</td><td>-6.283485477007494</td><td>-60.87685384820577</td><td>44.85817327627446</td><td>4.458</td><td>1</td></tr><tr><td>Touchdown Halo</td><td>O (Circle x2)</td><td>al4ugBpGVyBrx3YKG3sY</td><td>touchdown_halo</td><td>SlZVgkV1ElRlZJs1t5UE4rr99vE3</td><td>2025-06-15T02:51:48.998Z</td><td>-1.9541502414048462</td><td>4.62514454363376</td><td>-2.0264674888923557</td><td>-4.386221947791947</td><td>-1.376014074826673</td><td>-6.824155985528196</td><td>19.339589691353105</td><td>-46.75991565798007</td><td>31.422824116983875</td><td>3.637</td><td>2</td></tr><tr><td>Collapse Left</td><td><</td><td>gyLY0V5TCBH5tq8hFiq7</td><td>collapse_left</td><td>3T02i8MvMYV0f7Xz7MCnvyLMpLG3</td><td>2025-07-10T14:50:44.293Z</td><td>-0.029162747163973338</td><td>0.1617724919912901</td><td>-0.28168843225656803</td><td>-0.1879156754172538</td><td>-8.628099421270662</td><td>-3.727807998853061</td><td>-5.697369252334881</td><td>1.7555182198995913</td><td>-1.1565827377611169</td><td>5.008</td><td>14</td></tr><tr><td>Touchdown Halo</td><td>O (Circle x2)</td><td>g74I0C453gO1R4kJNK8y</td><td>touchdown_halo</td><td>SlZVgkV1ElRlZJs1t5UE4rr99vE3</td><td>2025-06-15T02:51:31.122Z</td><td>-0.737525037925951</td><td>3.011201294368628</td><td>-2.099018411694728</td><td>-2.400379113184103</td><td>-4.351631755855057</td><td>-6.324808603292958</td><td>7.139662262476092</td><td>-24.14626462335429</td><td>23.693037930369258</td><td>3.505</td><td>2</td></tr><tr><td>Touchdown Halo</td><td>O (Circle x2)</td><td>Au3I2vBLCA9hfElsPUXx</td><td>touchdown_halo</td><td>sNDSCcBtCDbGlzCaRwVVOFfQDTF2</td><td>2025-06-27T01:50:44.366Z</td><td>-0.16758346253214612</td><td>1.0432296970833925</td><td>-1.8306997456299396</td><td>-1.213704482437035</td><td>-7.720779149980833</td><td>-4.030563044934741</td><td>-0.6309551121486104</td><td>-9.594107907000524</td><td>18.81025593979753</td><td>3.712</td><td>1</td></tr><tr><td>Irish Surge</td><td>N</td><td>WB1mwp4t36qHQcnzNFQf</td><td>irish_surge</td><td>yyJqKEAv0qZCzmksNJA26VVizfE3</td><td>2025-06-15T02:42:38.126Z</td><td>-0.006280873006239721</td><td>0.300461306348708</td><td>-1.134279305886949</td><td>0.11230451583749704</td><td>-8.558854781451888</td><td>-3.5776041904896503</td><td>22.556105033931757</td><td>-16.96776694867394</td><td>-4.276490929787314</td><td>2.256</td><td>2</td></tr><tr><td>Touchdown Halo</td><td>O (Circle x2)</td><td>CpVz5MMPcSIu2qknfqL5</td><td>touchdown_halo</td><td>A7P5QM0SuEh30sbaJVr4DwwQvpz2</td><td>2025-06-15T02:42:06.083Z</td><td>-0.7084415584415582</td><td>-0.5451298701298704</td><td>1.8834415584415585</td><td>-1.0198051948051952</td><td>8.38733766233766</td><td>4.398376623376622</td><td>-4.145779220779217</td><td>-7.846428571428574</td><td>14.53961038961039</td><td>5.007</td><td>2</td></tr><tr><td>Touchdown Halo</td><td>O (Circle x2)</td><td>cJEyD3hi7Sg9ATFuZ1RH</td><td>touchdown_halo</td><td>jUmt1zPgyZORPZuC55z8aeGyMqJ2</td><td>2025-06-15T02:44:52.978Z</td><td>2.7084999999999964</td><td>-7.185500000000002</td><td>0.3820000000000008</td><td>6.535249999999992</td><td>-2.492999999999998</td><td>0.3222500000000008</td><td>1.8127499999999983</td><td>-8.87074999999994</td><td>-4.25625</td><td>4.595</td><td>2</td></tr><tr><td>Touchdown Halo</td><td>O (Circle x2)</td><td>BLjMutelDfEJDP72Mj1Y</td><td>touchdown_halo</td><td>A7P5QM0SuEh30sbaJVr4DwwQvpz2</td><td>2025-06-15T02:42:18.072Z</td><td>-0.4424812030075183</td><td>-0.8984962406015041</td><td>2.1808270676691754</td><td>-0.8729323308270687</td><td>8.116541353383461</td><td>3.9300751879699227</td><td>-3.5872180451127793</td><td>-6.391729323308269</td><td>18.412781954887222</td><td>4.087</td><td>2</td></tr><tr><td>Collapse Left</td><td><</td><td>gJs9z1VAMg2tiXK5KBoW</td><td>collapse_left</td><td>sNDSCcBtCDbGlzCaRwVVOFfQDTF2</td><td>2025-07-01T13:36:29.102Z</td><td>-0.02239414085893637</td><td>0.5444839508352484</td><td>-1.3952757284673198</td><td>0.4577731725880725</td><td>-8.25394968973151</td><td>-5.1904485712623645</td><td>-13.932177582251407</td><td>9.170670649594468</td><td>-4.157455062283253</td><td>2.048</td><td>13</td></tr><tr><td>Collapse Left</td><td><</td><td>85Pvi5mloW2PV0igRHlg</td><td>collapse_left</td><td>SlZVgkV1ElRlZJs1t5UE4rr99vE3</td><td>2025-06-16T16:38:43.451Z</td><td>-0.05186451419473918</td><td>1.034920622411967</td><td>-1.863344428725689</td><td>0.8951632245762716</td><td>-7.118334093196393</td><td>-6.583231367943535</td><td>-15.094397308813576</td><td>14.793127105075568</td><td>-7.166919312396174</td><td>1.746</td><td>16</td></tr><tr><td>Touchdown Halo</td><td>O (Circle x2)</td><td>FH4JhbzbTxl5rmDndi5d</td><td>touchdown_halo</td><td>SlZVgkV1ElRlZJs1t5UE4rr99vE3</td><td>2025-06-15T02:51:59.146Z</td><td>-1.7865674982507016</td><td>4.288238684407612</td><td>-0.6968327217715632</td><td>-5.040687006254235</td><td>-1.4456007182458892</td><td>-5.430816670538264</td><td>18.082248200114222</td><td>-43.784523434065285</td><td>11.901110896037064</td><td>4.055</td><td>2</td></tr><tr><td>Irish Surge</td><td>N</td><td>GHvKdwUQPGlt3JJzVMZO</td><td>irish_surge</td><td>WeNzNivJuegep48EQna4cuQQFcg1</td><td>2025-07-22T00:36:18.802Z</td><td>0.007781155543250013</td><td>0.03528835667392771</td><td>-0.18268767676414482</td><td>-0.04448902069746047</td><td>-9.659030506201471</td><td>-1.3193647744767854</td><td>3.789930045500652</td><td>-2.693209587537488</td><td>0.5660217344425129</td><td>2.849</td><td>0</td></tr><tr><td>Collapse Left</td><td><</td><td>hcAXFNlSAyYToDLTnqen</td><td>collapse_left</td><td>7hOsavOpK9hQ53r43R19b8kHxS72</td><td>2025-06-15T05:41:47.103Z</td><td>-0.005573770491803305</td><td>-0.08000000000000024</td><td>0.07377049180327869</td><td>0.3537704918032785</td><td>1.087868852459016</td><td>9.779016393442625</td><td>-2.8134426229508214</td><td>-0.8714754098360651</td><td>0.5229508196721324</td><td>5.007</td><td>5</td></tr><tr><td>Collapse Left</td><td><</td><td>Da3rrGl3jP7bOzsarG31</td><td>collapse_left</td><td>PIYoM7g2NPeWCyJzADmC8Q3AoNU2</td><td>2025-07-19T20:14:01.379Z</td><td>-0.5033681342189708</td><td>1.211775609379245</td><td>-1.710716940369135</td><td>-0.09519356068848803</td><td>-5.387816949639616</td><td>-6.610920883366905</td><td>-27.80825794307516</td><td>27.419897207020206</td><td>-3.3370092113289407</td><td>2.553</td><td>20</td></tr><tr><td>Touchdown Halo</td><td>O (Circle x2)</td><td>GMU0N1fL65ifmgHARUxP</td><td>touchdown_halo</td><td>SlZVgkV1ElRlZJs1t5UE4rr99vE3</td><td>2025-06-15T02:51:39.547Z</td><td>-1.3335014398201557</td><td>4.082232150992243</td><td>-1.8436950894403195</td><td>-2.7608382171708588</td><td>-2.276407253129639</td><td>-7.186879971217719</td><td>10.227448074181357</td><td>-35.75452101879539</td><td>20.593387548041044</td><td>3.355</td><td>2</td></tr><tr><td>Collapse Left</td><td><</td><td>Avr43lXJbov4LGbDDkCv</td><td>collapse_left</td><td>jUmt1zPgyZORPZuC55z8aeGyMqJ2</td><td>2025-06-15T02:45:19.17Z</td><td>1.24672131147541</td><td>-4.129508196721311</td><td>-0.21311475409836078</td><td>3.261475409836066</td><td>1.2577868852459018</td><td>6.277868852459016</td><td>-15.272131147540984</td><td>0.4795081967213065</td><td>3.2471311475409856</td><td>2.353</td><td>2</td></tr><tr><td>Irish Surge</td><td>N</td><td>hm5aaJ9bygIJc4Sga8kD</td><td>irish_surge</td><td>sNDSCcBtCDbGlzCaRwVVOFfQDTF2</td><td>2025-07-11T01:10:01.072Z</td><td>0.16731684708426267</td><td>0.17350489650716655</td><td>-0.6638397094484154</td><td>0.16108981336932937</td><td>-9.192957622553628</td><td>-2.3433586861636946</td><td>7.374784710177487</td><td>-4.961556181392216</td><td>-1.6544724938045965</td><td>3.33</td><td>1</td></tr><tr><td>Irish Surge</td><td>N</td><td>dGHTXU9Y1Qtkbjyt2gIU</td><td>irish_surge</td><td>SlZVgkV1ElRlZJs1t5UE4rr99vE3</td><td>2025-06-15T02:51:03.092Z</td><td>-1.2517643487995758</td><td>4.579668790734681</td><td>-3.0446464290873214</td><td>-2.1688921710854125</td><td>-2.4737033635061905</td><td>-7.531668834421929</td><td>19.08739604642747</td><td>-13.231933452263544</td><td>-16.013200693716414</td><td>2.12</td><td>2</td></tr><tr><td>Collapse Left</td><td><</td><td>8aas0YzVO4fjXTTafQIK</td><td>collapse_left</td><td>A7P5QM0SuEh30sbaJVr4DwwQvpz2</td><td>2025-06-15T02:43:51.674Z</td><td>0.06534090909090912</td><td>-0.02102272727272735</td><td>0.857954545454545</td><td>0.010795454545454324</td><td>9.009659090909098</td><td>3.559090909090908</td><td>-18.240909090909085</td><td>-4.627272727272729</td><td>-11.907386363636363</td><td>2.692</td><td>2</td></tr><tr><td>Collapse Left</td><td><</td><td>6BeNxvXJMB7t7cZiyfkI</td><td>collapse_left</td><td>yyJqKEAv0qZCzmksNJA26VVizfE3</td><td>2025-06-15T02:41:14.604Z</td><td>-0.01134925700222837</td><td>0.011257538676486822</td><td>-0.001742531439802536</td><td>0.20719018484830523</td><td>-6.6197855944787545</td><td>-7.216528524461608</td><td>1.8887772934273563</td><td>0.931309281539024</td><td>-0.27429916548915945</td><td>1.77</td><td>2</td></tr><tr><td>Irish Surge</td><td>N</td><td>eMOlsP0oUYmIqpmAuiMU</td><td>irish_surge</td><td>3T02i8MvMYV0f7Xz7MCnvyLMpLG3</td><td>2025-07-10T14:52:48.665Z</td><td>0.18277040725993143</td><td>0.0023575987012810335</td><td>-0.6947757670373041</td><td>-0.7563060167212292</td><td>-9.491420634066046</td><td>-0.2041469342844937</td><td>3.3318503537469204</td><td>-2.192069849524228</td><td>3.169148509858149</td><td>4.98</td><td>14</td></tr><tr><td>Irish Surge</td><td>N</td><td>6kKbmHIlPZputvgUGwKa</td><td>irish_surge</td><td>PIYoM7g2NPeWCyJzADmC8Q3AoNU2</td><td>2025-07-26T01:14:31.528Z</td><td>-0.15744406151010085</td><td>3.5800306986076946</td><td>-1.2030806872095696</td><td>-0.625209059457379</td><td>0.6683423313970899</td><td>-8.695904383038572</td><td>31.61725930000527</td><td>-9.371997992996524</td><td>-10.589438460864114</td><td>2.902</td><td>1</td></tr><tr><td>Irish Surge</td><td>N</td><td>A4mlfmfvvLXobGFZYXMl</td><td>irish_surge</td><td>SlZVgkV1ElRlZJs1t5UE4rr99vE3</td><td>2025-06-15T02:51:19.607Z</td><td>-0.6250537361398035</td><td>3.3085199696911496</td><td>-1.5857774906200552</td><td>-2.1739283731099133</td><td>-3.9819315404124787</td><td>-6.1705554582285504</td><td>5.6076333956609075</td><td>-15.309630486651189</td><td>-11.353649364019056</td><td>2.533</td><td>2</td></tr><tr><td>Collapse Left</td><td><</td><td>eGIHJ94yna8QxnJdgPg4</td><td>collapse_left</td><td>Lpdfv7XnLMQ5gVb46Rc6K9DhgWN2</td><td>2025-07-01T13:36:45.275Z</td><td>-0.0416357364818811</td><td>0.15055834456739525</td><td>-0.0631086541364972</td><td>-1.3397945948085528</td><td>-5.991855067436855</td><td>-7.507084823258104</td><td>-4.2741462474784555</td><td>3.1339745785106072</td><td>2.7220695187408572</td><td>3.029</td><td>13</td></tr><tr><td>Collapse Left</td><td><</td><td>7WMTZ00d9qmA0izgSrva</td><td>collapse_left</td><td>sNDSCcBtCDbGlzCaRwVVOFfQDTF2</td><td>2025-06-16T17:11:06.652Z</td><td>-0.18036775204629904</td><td>1.7744850199825564</td><td>-1.6308087726605427</td><td>1.0185134249749404</td><td>-5.317107619843183</td><td>-7.045993897241677</td><td>-29.880527440291445</td><td>6.746302086852768</td><td>-1.0585465981730815</td><td>1.748</td><td>17</td></tr><tr><td>Collapse Left</td><td><</td><td>YEiwKNGaPTNduop7M9t9</td><td>collapse_left</td><td>WeNzNivJuegep48EQna4cuQQFcg1</td><td>2025-07-07T02:54:00.817Z</td><td>-0.050729421203252474</td><td>0.07234042906761158</td><td>-0.1759163289144743</td><td>0.18986961159184496</td><td>-9.616333944885389</td><td>-1.174411202429787</td><td>-3.3820394181664777</td><td>0.6948464519271133</td><td>-0.5642645140977041</td><td>3.469</td><td>2</td></tr><tr><td>Touchdown Halo</td><td>O (Circle x2)</td><td>78usKvy4Yp9FLMNh5d6D</td><td>touchdown_halo</td><td>Lpdfv7XnLMQ5gVb46Rc6K9DhgWN2</td><td>2025-07-02T01:56:11.026Z</td><td>-1.2378713077061787</td><td>1.0238367897764247</td><td>-2.0080096989146616</td><td>-3.260590186207864</td><td>-7.358123370605581</td><td>-3.7888578362661844</td><td>9.856909169186837</td><td>-7.772277931937745</td><td>19.74616167576738</td><td>4.42</td><td>1</td></tr><tr><td>Irish Surge</td><td>N</td><td>29Ha6Y92iCipu8yPCwhZ</td><td>irish_surge</td><td>Q55o2vIYKiOHUpN7hQk5oQEPrDd2</td><td>2025-07-25T16:10:59.465Z</td><td>-0.022101494170315667</td><td>-0.029032544565334124</td><td>0.059663712436755126</td><td>-0.0028025906171496935</td><td>9.703098202018348</td><td>0.9226711851848247</td><td>2.235376305842576</td><td>-0.06348441525918795</td><td>-0.6533958559407951</td><td>4.384</td><td>16</td></tr><tr><td>Touchdown Halo</td><td>O (Circle x2)</td><td>54F5PZ24VIXQiatpUNLY</td><td>touchdown_halo</td><td>PIYoM7g2NPeWCyJzADmC8Q3AoNU2</td><td>2025-07-26T01:12:57.047Z</td><td>-1.5401158978980736</td><td>4.40609276921601</td><td>-3.137992593542165</td><td>-3.988961201095761</td><td>1.2486643436675662</td><td>-9.171128545310824</td><td>11.102846492180914</td><td>-59.02575637748422</td><td>31.302031090692275</td><td>4.456</td><td>1</td></tr><tr><td>Touchdown Halo</td><td>O (Circle x2)</td><td>mNTnbdzlG19jOOXLp6A9</td><td>touchdown_halo</td><td>A7P5QM0SuEh30sbaJVr4DwwQvpz2</td><td>2025-06-15T02:42:30.766Z</td><td>-0.4605150214592274</td><td>-1.3416309012875538</td><td>3.209012875536481</td><td>-1.081974248927038</td><td>7.356223175965666</td><td>5.4188841201716755</td><td>-8.281545064377685</td><td>-10.236909871244654</td><td>25.889699570815452</td><td>3.74</td><td>2</td></tr><tr><td>Irish Surge</td><td>N</td><td>iIg3BiiKfc5vdDCqBeeN</td><td>irish_surge</td><td>PIYoM7g2NPeWCyJzADmC8Q3AoNU2</td><td>2025-07-26T01:14:05.709Z</td><td>-0.5926502586430391</td><td>4.774936654868859</td><td>-1.0364502191608829</td><td>-2.245269284995796</td><td>3.6379085024187208</td><td>-8.916627684200938</td><td>21.033022500755852</td><td>-10.452538488638918</td><td>-6.491583368964258</td><td>2.906</td><td>1</td></tr><tr><td>Irish Surge</td><td>N</td><td>4gy7WbEGI36m14m1QIgW</td><td>irish_surge</td><td>PIYoM7g2NPeWCyJzADmC8Q3AoNU2</td><td>2025-07-20T02:21:17.796Z</td><td>0.4324244284283265</td><td>3.5757792077169808</td><td>-2.4562619384373368</td><td>-1.588444501724726</td><td>-0.3542370694388987</td><td>-8.881154689662115</td><td>10.7818768723716</td><td>1.617702072661576</td><td>-8.977840037861391</td><td>3.607</td><td>2</td></tr><tr><td>Irish Surge</td><td>N</td><td>mlSeuxxqYGHl2TxImvVM</td><td>irish_surge</td><td>SlZVgkV1ElRlZJs1t5UE4rr99vE3</td><td>2025-06-15T02:50:55.924Z</td><td>-1.9373779246251739</td><td>5.186085992506722</td><td>-2.5791600961377887</td><td>-2.692182217657311</td><td>-0.909571479275075</td><td>-8.01050357978148</td><td>11.064770096787857</td><td>-9.546438700614845</td><td>-11.312206808357743</td><td>2.293</td><td>2</td></tr><tr><td>Collapse Left</td><td><</td><td>5Q3EOcGy71GobUOWdPgZ</td><td>collapse_left</td><td>EMr3nqqL6ygD1MYdgxrJosFUzn63</td><td>2025-07-12T17:16:01.57Z</td><td>-0.4563288258862897</td><td>1.0392512698918497</td><td>-0.5675945094857444</td><td>-2.7246417745788847</td><td>-4.32206343988107</td><td>-6.751774294218956</td><td>-10.509433302512859</td><td>12.008210617532447</td><td>10.58152308017483</td><td>2.903</td><td>17</td></tr><tr><td>Irish Surge</td><td>N</td><td>1DlnbeuO7ggujkFLGkvG</td><td>irish_surge</td><td>A7P5QM0SuEh30sbaJVr4DwwQvpz2</td><td>2025-06-15T02:43:36.13Z</td><td>-0.09957264957264969</td><td>-0.1188034188034186</td><td>0.7790598290598291</td><td>0.6235042735042741</td><td>9.5957264957265</td><td>2.4401709401709377</td><td>0.2692307692307695</td><td>-6.868376068376071</td><td>-2.6628205128205145</td><td>3.935</td><td>2</td></tr><tr><td>Irish Surge</td><td>N</td><td>jkp9tyCnpE3gzcVLDarC</td><td>irish_surge</td><td>yyJqKEAv0qZCzmksNJA26VVizfE3</td><td>2025-06-15T02:41:29.563Z</td><td>-0.2808488785587476</td><td>0.24663428044030083</td><td>-0.9672134948389921</td><td>-0.3503861433797892</td><td>-7.238543324552602</td><td>-6.292581173551208</td><td>-2.7546045365296137</td><td>4.60973306236908</td><td>1.3978761596612626</td><td>5.007</td><td>2</td></tr><tr><td>Collapse Left</td><td><</td><td>jVVqN38VN2s9crp61nrl</td><td>collapse_left</td><td>PIYoM7g2NPeWCyJzADmC8Q3AoNU2</td><td>2025-07-26T01:13:40.836Z</td><td>-1.0051821433978503</td><td>2.688572895192534</td><td>-1.763918663987757</td><td>-2.5890553879907743</td><td>1.2488701801776179</td><td>-9.51092314764237</td><td>-8.300445362108668</td><td>4.352584897285031</td><td>-8.802331388318988</td><td>2.972</td><td>1</td></tr><tr><td>Irish Surge</td><td>N</td><td>ljixfEUUHWkhEnG7Gfqr</td><td>irish_surge</td><td>PIYoM7g2NPeWCyJzADmC8Q3AoNU2</td><td>2025-07-26T01:11:44.001Z</td><td>-0.22916687872949332</td><td>1.0970336633024789</td><td>-1.4071442475511595</td><td>-2.695589175682047</td><td>-6.384415371974704</td><td>-5.9446905259375</td><td>5.816100384367673</td><td>-9.398012993410783</td><td>-1.5831946632850986</td><td>3.015</td><td>1</td></tr><tr><td>Touchdown Halo</td><td>O (Circle x2)</td><td>icSl571mwULNPOHdDB8v</td><td>touchdown_halo</td><td>yyJqKEAv0qZCzmksNJA26VVizfE3</td><td>2025-06-15T02:48:50.932Z</td><td>0.03940055598345232</td><td>1.1632667310797213</td><td>-1.8411039071198407</td><td>-1.0759629649007627</td><td>-7.317402119593558</td><td>-4.578418004510051</td><td>4.503547509246084</td><td>-14.699729849759368</td><td>23.875440515214617</td><td>3.305</td><td>2</td></tr><tr><td>Collapse Left</td><td><</td><td>lSY1ZPeVKDYg1TLwrFES</td><td>collapse_left</td><td>A7P5QM0SuEh30sbaJVr4DwwQvpz2</td><td>2025-06-15T02:41:08.005Z</td><td>-0.005882352941176279</td><td>-0.3790849673202613</td><td>0.9758169934640515</td><td>-1.8581699346405225</td><td>7.832026143790849</td><td>3.839869281045753</td><td>-14.802614379084977</td><td>-8.230718954248367</td><td>-14.024836601307188</td><td>2.595</td><td>2</td></tr><tr><td>Collapse Left</td><td><</td><td>nRdL1s0u068525pjFsbW</td><td>collapse_left</td><td>PIYoM7g2NPeWCyJzADmC8Q3AoNU2</td><td>2025-07-26T01:13:51.586Z</td><td>-1.2748050644442832</td><td>2.6731306151104386</td><td>-1.3807387460269223</td><td>-2.2460528516589555</td><td>0.5852217518444136</td><td>-9.306404827081561</td><td>-22.24422649118599</td><td>0.9799668973405808</td><td>-10.505484604922879</td><td>2.674</td><td>1</td></tr><tr><td>Collapse Left</td><td><</td><td>1IJGEH5GaHkk1lhJqa8Q</td><td>collapse_left</td><td>yyJqKEAv0qZCzmksNJA26VVizfE3</td><td>2025-06-15T02:41:03.843Z</td><td>-0.07571355368336848</td><td>0.16927748259039865</td><td>-0.4219517146828201</td><td>-0.2606152812660018</td><td>-8.3522446441214</td><td>-4.3285365036025665</td><td>-11.527459516960102</td><td>6.813889334791008</td><td>0.517854151845976</td><td>3.31</td><td>2</td></tr><tr><td>Touchdown Halo</td><td>O (Circle x2)</td><td>47UgyhAVQeGbf81EHWCL</td><td>touchdown_halo</td><td>yyJqKEAv0qZCzmksNJA26VVizfE3</td><td>2025-06-15T02:44:46.322Z</td><td>0.15290558234080465</td><td>0.9433511911932395</td><td>-1.520778428832738</td><td>-1.838745053670319</td><td>-7.679792560796795</td><td>-3.1039060225763455</td><td>-5.639559323600062</td><td>-7.371794073019173</td><td>12.474830696398671</td><td>3.717</td><td>2</td></tr><tr><td>Irish Surge</td><td>N</td><td>mpWe6Z3UF2X9GsFpcYew</td><td>irish_surge</td><td>A7P5QM0SuEh30sbaJVr4DwwQvpz2</td><td>2025-06-15T02:41:35.415Z</td><td>-0.20118343195266272</td><td>-0.7349112426035502</td><td>1.8662721893491123</td><td>0.6414201183431948</td><td>8.660946745562129</td><td>2.3455621301775165</td><td>13.19763313609468</td><td>-15.638461538461545</td><td>-3.5485207100591745</td><td>2.817</td><td>2</td></tr><tr><td>Collapse Left</td><td><</td><td>6BRNZql8heCWmsoLhQjI</td><td>collapse_left</td><td>EMr3nqqL6ygD1MYdgxrJosFUzn63</td><td>2025-07-24T21:12:02.454Z</td><td>-0.2340339774356638</td><td>1.0451447894050963</td><td>-0.5168660188794647</td><td>0.5775434824479762</td><td>-2.1475686444939064</td><td>-8.9747597855029</td><td>-27.006407229345204</td><td>1.8010577254059457</td><td>-5.173578553694596</td><td>1.936</td><td>21</td></tr><tr><td>Collapse Left</td><td><</td><td>m7pIyevpVUUNAIGUhZ9z</td><td>collapse_left</td><td>PIYoM7g2NPeWCyJzADmC8Q3AoNU2</td><td>2025-07-26T01:12:02.989Z</td><td>-0.4234220154294559</td><td>1.5929671653662396</td><td>-1.0543229230892013</td><td>-0.23860151226864276</td><td>-3.9446882317523877</td><td>-7.173140150933513</td><td>-41.760970792702686</td><td>7.848013132149418</td><td>-1.301645517443608</td><td>2.374</td><td>1</td></tr><tr><td>Irish Surge</td><td>N</td><td>hqRAQq9aQPSr3G01k05E</td><td>irish_surge</td><td>izX8B4Q6YoTSyMEbVBG95KD6F0f2</td><td>2025-06-17T16:41:57.75Z</td><td>3.145408163265307</td><td>-3.65204081632653</td><td>0.6469387755102037</td><td>4.374489795918367</td><td>3.356122448979592</td><td>4.331122448979591</td><td>14.58061224489795</td><td>6.004081632653067</td><td>-7.491326530612248</td><td>3.175</td><td>16</td></tr><tr><td>Touchdown Halo</td><td>O (Circle x2)</td><td>4Wbyk28GrZv96p9exFXf</td><td>touchdown_halo</td><td>mvMEQgMQXBg4rZzOLhmqdGbOPXk1</td><td>2025-07-20T19:53:45.963Z</td><td>-0.15380404001477158</td><td>0.14032981786171433</td><td>-1.2513923696494376</td><td>-0.0655064782026274</td><td>-9.210945364949202</td><td>-3.2582485411656164</td><td>2.1194367645137024</td><td>1.8398075919848795</td><td>11.609194790116199</td><td>4.025</td><td>19</td></tr><tr><td>Irish Surge</td><td>N</td><td>mM8yfumoWjCYYvxlZDeD</td><td>irish_surge</td><td>jUmt1zPgyZORPZuC55z8aeGyMqJ2</td><td>2025-06-15T02:43:06.827Z</td><td>0.20305343511450405</td><td>-1.8318066157760835</td><td>0.39694656488549657</td><td>0.20076335877862642</td><td>5.291603053435115</td><td>5.859796437659043</td><td>9.874045801526728</td><td>1.3600508905852435</td><td>-4.74834605597964</td><td>4.055</td><td>2</td></tr><tr><td>Touchdown Halo</td><td>O (Circle x2)</td><td>iJfAZWvumTEMsua0Hc6C</td><td>touchdown_halo</td><td>n13pC0Eu2wgFT7kDPFO9mI7bJnJ2</td><td>2025-06-29T00:53:54.896Z</td><td>0.06697195421787108</td><td>1.5547000105696478</td><td>-1.731071413382525</td><td>0.9034225940740015</td><td>-3.735923733756001</td><td>-9.262151748745062</td><td>-0.9297274548450314</td><td>20.097012055149257</td><td>-21.2166609836884</td><td>4.781</td><td>0</td></tr><tr><td>Collapse Left</td><td><</td><td>jTV8MWjfDGkMzkhsfZgk</td><td>collapse_left</td><td>SlZVgkV1ElRlZJs1t5UE4rr99vE3</td><td>2025-06-15T02:50:30.65Z</td><td>-0.1509126607285095</td><td>1.0336517379110424</td><td>-1.1811643058592594</td><td>0.3010814357923413</td><td>-7.108946468681549</td><td>-5.9377996832547915</td><td>-28.206200111335885</td><td>9.290185968010505</td><td>1.8401824793758654</td><td>1.565</td><td>2</td></tr><tr><td>Touchdown Halo</td><td>O (Circle x2)</td><td>2aSWziIFSvFAn0gOzmk5</td><td>touchdown_halo</td><td>PIYoM7g2NPeWCyJzADmC8Q3AoNU2</td><td>2025-07-20T02:21:33.67Z</td><td>0.7349680858658977</td><td>3.2751409497858823</td><td>-5.087150616659025</td><td>-1.5040770076067675</td><td>-1.1535535385631743</td><td>-10.051420657593729</td><td>-17.72419449244977</td><td>-44.44005166503234</td><td>49.54440535658556</td><td>4.272</td><td>2</td></tr><tr><td>Irish Surge</td><td>N</td><td>ImK2b1dRd6trcjf3stkN</td><td>irish_surge</td><td>3T02i8MvMYV0f7Xz7MCnvyLMpLG3</td><td>2025-07-10T14:51:51.642Z</td><td>-0.00664655462425943</td><td>0.030058821770173414</td><td>-0.5031085504714375</td><td>-0.30480664526731716</td><td>-9.636461369600706</td><td>-0.5568419688672785</td><td>2.0790991370484218</td><td>-1.6845480083848121</td><td>-1.1703224056532033</td><td>4.394</td><td>14</td></tr><tr><td>Irish Surge</td><td>N</td><td>KFqDecAjmljCPTwVCWn7</td><td>irish_surge</td><td>7hOsavOpK9hQ53r43R19b8kHxS72</td><td>2025-06-15T05:33:14.55Z</td><td>-0.05265957446808511</td><td>-0.1744680851063829</td><td>0.08599290780141834</td><td>0.3491134751773052</td><td>2.545921985815606</td><td>9.368262411347498</td><td>0.03776595744681519</td><td>-0.4200354609929061</td><td>0.16081560283687976</td><td>5.008</td><td>5</td></tr><tr><td>Irish Surge</td><td>N</td><td>Nw7VAQHOv2U71alRn5HM</td><td>irish_surge</td><td>PIYoM7g2NPeWCyJzADmC8Q3AoNU2</td><td>2025-07-26T01:14:19.229Z</td><td>-0.692235998599791</td><td>5.536813501544269</td><td>-1.7761845633823188</td><td>-1.4832128391600694</td><td>3.642966204419995</td><td>-9.146032653806646</td><td>30.577679065862245</td><td>-15.045580897011416</td><td>-14.155306226079594</td><td>2.657</td><td>1</td></tr><tr><td>Touchdown Halo</td><td>O (Circle x2)</td><td>sEf4rx6HjujAoM52A5AN</td><td>touchdown_halo</td><td>sNDSCcBtCDbGlzCaRwVVOFfQDTF2</td><td>2025-07-10T22:37:43.781Z</td><td>0.08091538659982354</td><td>0.521326228924511</td><td>-1.3102759779730655</td><td>-0.8653450191224346</td><td>-8.803922447416676</td><td>-2.350377723578657</td><td>-4.081765393711372</td><td>-2.2448950691804566</td><td>10.916339678573408</td><td>4.058</td><td>22</td></tr><tr><td>Irish Surge</td><td>N</td><td>owBJVX1TmRrUNR3GrMQy</td><td>irish_surge</td><td>jUmt1zPgyZORPZuC55z8aeGyMqJ2</td><td>2025-06-15T02:42:55.214Z</td><td>-0.1441489361702127</td><td>-0.13882978723404235</td><td>0.08882978723404268</td><td>0.11436170212765963</td><td>6.204787234042551</td><td>7.504255319148938</td><td>3.248936170212768</td><td>3.4920212765957466</td><td>0.5585106382978728</td><td>2.476</td><td>2</td></tr><tr><td>Irish Surge</td><td>N</td><td>JreqV80lTYXk7pxSG4mj</td><td>irish_surge</td><td>yyJqKEAv0qZCzmksNJA26VVizfE3</td><td>2025-06-15T02:41:39.327Z</td><td>-0.2084243349107956</td><td>0.14937012115666579</td><td>-0.7128807723928805</td><td>0.05242018552449726</td><td>-8.21346001676425</td><td>-4.022266433615117</td><td>-1.4080412008781473</td><td>1.976694473836933</td><td>2.927942471158168</td><td>4.884</td><td>2</td></tr><tr><td>Irish Surge</td><td>N</td><td>IiSlLCv6Vcqk8qEpUPud</td><td>irish_surge</td><td>7hOsavOpK9hQ53r43R19b8kHxS72</td><td>2025-06-15T05:33:31.633Z</td><td>-0.020303030303030278</td><td>-0.12939393939393942</td><td>0.07212121212121216</td><td>0.6960606060606062</td><td>1.907878787878791</td><td>9.605757575757586</td><td>1.458787878787878</td><td>-0.9136363636363632</td><td>-0.3336363636363642</td><td>5.003</td><td>5</td></tr><tr><td>Touchdown Halo</td><td>O (Circle x2)</td><td>ppW3OWbs6DbnsBWWYW6y</td><td>touchdown_halo</td><td>PIYoM7g2NPeWCyJzADmC8Q3AoNU2</td><td>2025-07-20T02:21:46.872Z</td><td>0.8585445633001823</td><td>5.919363419738435</td><td>-6.120301744493165</td><td>-1.4661863972035234</td><td>1.4183864276126221</td><td>-10.989547439826886</td><td>-31.976645156208473</td><td>-69.53816512171115</td><td>57.71387375872689</td><td>3.802</td><td>2</td></tr><tr><td>Touchdown Halo</td><td>O (Circle x2)</td><td>NOk7qZrwRGORHmuWsLvq</td><td>touchdown_halo</td><td>A7P5QM0SuEh30sbaJVr4DwwQvpz2</td><td>2025-06-15T02:42:53.287Z</td><td>-0.8668571428571427</td><td>-1.9497142857142873</td><td>3.8954285714285697</td><td>-1.4205714285714277</td><td>6.808000000000002</td><td>5.971428571428572</td><td>-4.685142857142861</td><td>-21.10742857142857</td><td>27.757142857142853</td><td>2.989</td><td>2</td></tr><tr><td>Touchdown Halo</td><td>O (Circle x2)</td><td>qtrtFBr3Lmrb7KVvpu54</td><td>touchdown_halo</td><td>Q55o2vIYKiOHUpN7hQk5oQEPrDd2</td><td>2025-07-25T16:13:15.87Z</td><td>0.0819718765284148</td><td>-0.4135132809536636</td><td>2.7127256503245545</td><td>2.7108084394225935</td><td>7.96863398909682</td><td>4.390107498926103</td><td>0.2674776941735973</td><td>-0.3973063712290436</td><td>33.813116697942995</td><td>4.229</td><td>16</td></tr><tr><td>Collapse Left</td><td><</td><td>okQvCCbM3OCE9Vx2ZQtt</td><td>collapse_left</td><td>yyJqKEAv0qZCzmksNJA26VVizfE3</td><td>2025-06-15T02:42:15.007Z</td><td>-0.24583102135223045</td><td>0.821895093445778</td><td>-1.2274304267373677</td><td>-0.8788409570009904</td><td>-8.162104210011957</td><td>-3.1142797732496668</td><td>-24.545225744417387</td><td>25.536533009545728</td><td>-2.17483316337239</td><td>1.755</td><td>2</td></tr><tr><td>Collapse Left</td><td><</td><td>q9LRtY2gvP2cRBAZ5Tfc</td><td>collapse_left</td><td>yyJqKEAv0qZCzmksNJA26VVizfE3</td><td>2025-06-15T02:42:28.738Z</td><td>-0.07828136875158709</td><td>0.4892507886619621</td><td>-1.0482413117185</td><td>-0.1687102649969796</td><td>-8.697052644797227</td><td>-2.989118533744351</td><td>-27.89638629100008</td><td>13.478175421095232</td><td>-0.8583925390272441</td><td>1.604</td><td>2</td></tr><tr><td>Collapse Left</td><td><</td><td>IL7pBQEeF2yPmWLGjsqw</td><td>collapse_left</td><td>A7P5QM0SuEh30sbaJVr4DwwQvpz2</td><td>2025-06-15T02:40:51.732Z</td><td>-0.018115942028985473</td><td>-0.11014492753623187</td><td>0.6608695652173914</td><td>-0.8195652173913045</td><td>8.682608695652172</td><td>3.11159420289855</td><td>-17.455797101449278</td><td>-5.390579710144926</td><td>-12.901449275362324</td><td>2.371</td><td>2</td></tr><tr><td>Collapse Left</td><td><</td><td>LnpFrUtit9nckLaVJI37</td><td>collapse_left</td><td>7hOsavOpK9hQ53r43R19b8kHxS72</td><td>2025-06-15T05:42:10.027Z</td><td>0.01601562500000001</td><td>-0.05820312500000001</td><td>-0.005859375000000024</td><td>0.009765625000000097</td><td>1.0832031250000003</td><td>9.737890625000006</td><td>0.36015624999999996</td><td>0.4105468749999991</td><td>-1.4367187499999985</td><td>2.753</td><td>5</td></tr><tr><td>Irish Surge</td><td>N</td><td>LrArDuXEy6HzQ0331kjM</td><td>irish_surge</td><td>A7P5QM0SuEh30sbaJVr4DwwQvpz2</td><td>2025-06-15T02:43:07.288Z</td><td>-0.46871165644171764</td><td>-0.4472392638036812</td><td>1.8306748466257672</td><td>-0.7668711656441716</td><td>9.218404907975456</td><td>2.669325153374233</td><td>2.86932515337423</td><td>-8.722699386503066</td><td>-0.5331288343558301</td><td>2.711</td><td>2</td></tr><tr><td>Irish Surge</td><td>N</td><td>LZw2JufycUq9bEK1e2ar</td><td>irish_surge</td><td>Lpdfv7XnLMQ5gVb46Rc6K9DhgWN2</td><td>2025-07-02T01:55:55.338Z</td><td>-0.11490678199386513</td><td>0.07081836784230719</td><td>-0.043859991512011864</td><td>-1.844338011751224</td><td>-3.2700534416134595</td><td>-9.010899867914436</td><td>1.0150187971438376</td><td>-5.480661611190429</td><td>-5.321543510763116</td><td>3.577</td><td>1</td></tr><tr><td>Irish Surge</td><td>N</td><td>HYkTECkijEGb9udm9nkd</td><td>irish_surge</td><td>EMr3nqqL6ygD1MYdgxrJosFUzn63</td><td>2025-07-12T17:16:14.709Z</td><td>-0.657346768874648</td><td>2.9114762876263747</td><td>-0.8872280140089973</td><td>-1.7131672765779984</td><td>-2.9163830753640254</td><td>-7.233093377179926</td><td>21.857799920328034</td><td>-5.646522538523485</td><td>-8.415506243896683</td><td>2.6</td><td>17</td></tr><tr><td>Collapse Left</td><td><</td><td>LVhtMcAvZA25Ez8xcg2g</td><td>collapse_left</td><td>Gj9r95rnXdT2pSyXwA3D2mTG2iK2</td><td>2025-06-17T02:18:42.106Z</td><td>-0.16550902616572558</td><td>0.4650512067219033</td><td>-0.45919628212652847</td><td>-0.058219016206924046</td><td>-8.632577118858203</td><td>-3.488851970751963</td><td>-11.654394180254869</td><td>7.804032629831704</td><td>7.912710541199751</td><td>2.045</td><td>2</td></tr><tr><td>Touchdown Halo</td><td>O (Circle x2)</td><td>pkgfTBjlnmgoL5IuBQng</td><td>touchdown_halo</td><td>EMr3nqqL6ygD1MYdgxrJosFUzn63</td><td>2025-07-24T22:19:50.799Z</td><td>-1.0742226302963662</td><td>0.8815038047057075</td><td>-2.1684365395593885</td><td>-1.7935817390706408</td><td>-7.013028658652173</td><td>-5.534826619283359</td><td>14.60361098361234</td><td>-10.238290930744775</td><td>34.20598545329156</td><td>5.011</td><td>22</td></tr></tbody></table></div>"
      ]
     },
     "metadata": {
      "application/vnd.databricks.v1+output": {
       "addedWidgets": {},
       "aggData": [],
       "aggError": "",
       "aggOverflow": false,
       "aggSchema": [],
       "aggSeriesLimitReached": false,
       "aggType": "",
       "arguments": {},
       "columnCustomDisplayInfos": {},
       "data": [
        [
         "Collapse Left",
         "<",
         "O6BXBNcgv1f3Usl7FV9q",
         "collapse_left",
         "EMr3nqqL6ygD1MYdgxrJosFUzn63",
         "2025-07-12T17:15:49.242Z",
         -0.2744148801198791,
         0.5688674062090496,
         -0.5183392896635901,
         -0.9088188877734559,
         -5.753241456339878,
         -6.433874007840571,
         -17.143533027124338,
         11.159923833110668,
         7.402687095795068,
         3.467,
         17
        ],
        [
         "Collapse Left",
         "<",
         "xnQr3xdH4SP8uEb33vCg",
         "collapse_left",
         "A7P5QM0SuEh30sbaJVr4DwwQvpz2",
         "2025-06-15T02:40:59.211Z",
         0.05899280575539578,
         -0.2820143884892087,
         0.8467625899280575,
         -1.1661870503597127,
         8.37122302158274,
         3.199280575539569,
         -17.58129496402879,
         -6.6115107913669044,
         -15.879136690647483,
         2.374,
         2
        ],
        [
         "Touchdown Halo",
         "O (Circle x2)",
         "QSsHQYIanuigPYEPpprt",
         "touchdown_halo",
         "yyJqKEAv0qZCzmksNJA26VVizfE3",
         "2025-06-15T02:41:51.791Z",
         0.031042974131277143,
         0.44517306945517615,
         -0.9098444805097645,
         -0.12872064767093466,
         -8.572632559153682,
         -3.2107645940917666,
         2.8337223515959344,
         -2.155986236968474,
         8.01812525587317,
         4.341,
         2
        ],
        [
         "Collapse Left",
         "<",
         "UqxGJUKKSdqQISJWJWG9",
         "collapse_left",
         "SlZVgkV1ElRlZJs1t5UE4rr99vE3",
         "2025-06-15T02:50:37.551Z",
         -0.7891413799413156,
         2.475497610204855,
         -1.9667526826358583,
         -0.8387745401522936,
         -3.9030277549547567,
         -7.210103988457737,
         -50.32573698850957,
         4.804428293408731,
         4.246899301803691,
         1.839,
         2
        ],
        [
         "Touchdown Halo",
         "O (Circle x2)",
         "z7QhU8w2GZhAjkiEC1Ed",
         "touchdown_halo",
         "PIYoM7g2NPeWCyJzADmC8Q3AoNU2",
         "2025-07-26T01:12:29.863Z",
         -0.5878729766514252,
         3.7738290268858665,
         -4.354251827227095,
         -2.202545811082349,
         -0.6286572137677654,
         -9.71811965304495,
         4.23067437022156,
         -48.11536975764149,
         53.12280951834883,
         4.407,
         1
        ],
        [
         "Irish Surge",
         "N",
         "R3XJrzlmIIY2hm0nlZmU",
         "irish_surge",
         "SlZVgkV1ElRlZJs1t5UE4rr99vE3",
         "2025-06-15T02:51:10.901Z",
         -1.8404924925764612,
         5.3336821992997345,
         -3.0843852562355316,
         -2.3617486348910104,
         -1.7672721800122662,
         -7.453046918067675,
         16.595611551728737,
         -11.854678826268984,
         -7.783212779446158,
         2.171,
         2
        ],
        [
         "Touchdown Halo",
         "O (Circle x2)",
         "vAjkZDQd0AGdrGz29QFk",
         "touchdown_halo",
         "PIYoM7g2NPeWCyJzADmC8Q3AoNU2",
         "2025-07-19T20:07:00.23Z",
         -0.32898998113102873,
         1.186818859621206,
         -1.746957989236718,
         -4.1537165646902166,
         -5.866911921607824,
         -5.648683552987162,
         -4.054433787274606,
         -13.789582309177217,
         15.939561316790131,
         4.933,
         20
        ],
        [
         "Touchdown Halo",
         "O (Circle x2)",
         "UXMV6c0NqbXMzuasNl9G",
         "touchdown_halo",
         "A7P5QM0SuEh30sbaJVr4DwwQvpz2",
         "2025-06-15T02:42:42.387Z",
         -0.4303738317757011,
         -1.022429906542056,
         3.1042056074766347,
         -1.3864485981308414,
         7.712149532710283,
         4.552336448598132,
         -5.4518691588785115,
         -7.897196261682253,
         26.544392523364493,
         3.61,
         2
        ],
        [
         "Touchdown Halo",
         "O (Circle x2)",
         "y7TAmPnBgwd1ZgINn8cz",
         "touchdown_halo",
         "PIYoM7g2NPeWCyJzADmC8Q3AoNU2",
         "2025-07-20T02:22:17.587Z",
         0.16550708553727386,
         2.834210940070822,
         -2.7845204530123664,
         -4.004873090296024,
         -0.33360553584589253,
         -6.749921771052705,
         -19.25711725466585,
         -64.88656584599369,
         26.621482398213857,
         5.007,
         2
        ],
        [
         "Touchdown Halo",
         "O (Circle x2)",
         "QEqMJU9LO40yGnN4kldc",
         "touchdown_halo",
         "yyJqKEAv0qZCzmksNJA26VVizfE3",
         "2025-06-15T02:46:46.372Z",
         0.10187662268921838,
         1.1582074955014356,
         -2.0431824765242736,
         -0.34947937019253095,
         -6.913475810511982,
         -6.337332011673037,
         1.3230819722320153,
         -11.81050958634153,
         21.208874198902066,
         3.202,
         2
        ],
        [
         "Irish Surge",
         "N",
         "OQIZtfDnIJhYJEkCpiof",
         "irish_surge",
         "A7P5QM0SuEh30sbaJVr4DwwQvpz2",
         "2025-06-15T02:41:24.374Z",
         -0.5863636363636363,
         -0.44292929292929323,
         1.502525252525252,
         -0.1489898989898993,
         8.962626262626255,
         2.4525252525252523,
         10.789898989898989,
         -9.770707070707072,
         -4.297979797979799,
         3.262,
         2
        ],
        [
         "Collapse Left",
         "<",
         "zXrKF0R3HdNp06LYdJvq",
         "collapse_left",
         "PIYoM7g2NPeWCyJzADmC8Q3AoNU2",
         "2025-07-20T02:21:01.136Z",
         -0.27656727319546087,
         1.2905866229376755,
         -1.3664116756747098,
         -0.4046012117107728,
         -4.498768274616432,
         -6.6669609024437015,
         -27.693038364272596,
         4.043044257014831,
         -5.8225217469609,
         3.185,
         2
        ],
        [
         "Irish Surge",
         "N",
         "R3unQo8t9UOqOhAxvZUL",
         "irish_surge",
         "sNDSCcBtCDbGlzCaRwVVOFfQDTF2",
         "2025-06-17T01:30:59.617Z",
         -0.29237267605637535,
         3.0732344803447615,
         -3.038668457495627,
         0.2706777611627611,
         -3.939775827934983,
         -7.851817075242288,
         19.95620609183341,
         0.9612133965869962,
         -1.1299465662539703,
         2.109,
         1
        ],
        [
         "Collapse Left",
         "<",
         "uY0UVdKtQHazagHowosP",
         "collapse_left",
         "EMr3nqqL6ygD1MYdgxrJosFUzn63",
         "2025-06-28T15:33:25.852Z",
         -0.27172327017042636,
         0.6101198641571901,
         -0.3770284333494311,
         -1.4789681494021674,
         -4.120561265884602,
         -7.931275559355684,
         -7.007304725610044,
         9.321410888528334,
         8.30190671576947,
         5.012,
         15
        ],
        [
         "Collapse Left",
         "<",
         "uNkKns3tE5u3u5pUZPM7",
         "collapse_left",
         "PIYoM7g2NPeWCyJzADmC8Q3AoNU2",
         "2025-07-26T01:13:10.925Z",
         -1.0783869773958203,
         2.771617299329534,
         -1.5517499323694812,
         -1.8264708831040617,
         0.20255941420384163,
         -9.328298250332278,
         -21.745758010527148,
         -3.336632415491978,
         -12.638724088884082,
         2.756,
         1
        ],
        [
         "Touchdown Halo",
         "O (Circle x2)",
         "SxNqWzDker7DeEP4uKD4",
         "touchdown_halo",
         "sNDSCcBtCDbGlzCaRwVVOFfQDTF2",
         "2025-06-17T13:28:51.686Z",
         -0.03984762832412275,
         1.2016062956897118,
         -2.4554827379908137,
         0.18162602685046772,
         -7.236302916976469,
         -5.513625851031247,
         1.6143227592576201,
         -7.679544814211634,
         32.274273133974404,
         4.416,
         13
        ],
        [
         "Touchdown Halo",
         "O (Circle x2)",
         "UMTXJmkUReTTi0LTPuf2",
         "touchdown_halo",
         "PIYoM7g2NPeWCyJzADmC8Q3AoNU2",
         "2025-07-26T01:11:20.97Z",
         -0.7098409181549473,
         1.3566776055102168,
         -2.922372436850376,
         -2.889357583956245,
         -5.781456140253178,
         -6.342335999961581,
         -0.0365243940738766,
         -12.10054660093622,
         31.2149736933556,
         4.587,
         1
        ],
        [
         "Collapse Left",
         "<",
         "VUx4zBcVnF36ogGtXm3V",
         "collapse_left",
         "mvMEQgMQXBg4rZzOLhmqdGbOPXk1",
         "2025-07-20T19:53:17.536Z",
         0.004444478581731272,
         0.032646438831238855,
         -0.21886018477669836,
         0.08572627168643246,
         -9.549796335967029,
         -2.075715086986369,
         -5.843779926714306,
         3.1645734344833603,
         -2.5433462080169305,
         2.396,
         19
        ],
        [
         "Touchdown Halo",
         "O (Circle x2)",
         "W7z1ZwV9E9D1OOhcN8l5",
         "touchdown_halo",
         "jUmt1zPgyZORPZuC55z8aeGyMqJ2",
         "2025-06-15T02:45:05.707Z",
         1.8558673469387752,
         -4.906377551020407,
         0.013265306122449385,
         6.383418367346943,
         -0.543622448979591,
         0.3530612244898008,
         8.488010204081629,
         -4.485969387755088,
         -6.509948979591828,
         3.775,
         2
        ],
        [
         "Collapse Left",
         "<",
         "wH8FpscdI1uMm7VUPM7d",
         "collapse_left",
         "A7P5QM0SuEh30sbaJVr4DwwQvpz2",
         "2025-06-15T02:44:02.482Z",
         0.05511811023622032,
         0.021259842519684925,
         0.47007874015748036,
         -0.9015748031496063,
         8.565354330708663,
         3.8992125984251955,
         -16.34488188976379,
         0.6779527559055122,
         -13.019685039370076,
         2.141,
         2
        ],
        [
         "Collapse Left",
         "<",
         "uPLF6YLEWwTW05SAweDR",
         "collapse_left",
         "SlZVgkV1ElRlZJs1t5UE4rr99vE3",
         "2025-06-15T02:50:46.316Z",
         -0.558809616758729,
         2.1806914980373455,
         -1.8589801704454598,
         -1.0839495026150419,
         -4.977105717307285,
         -6.5242213915660985,
         -53.02685097605645,
         7.509278812853455,
         4.532678586209181,
         1.666,
         2
        ],
        [
         "Touchdown Halo",
         "O (Circle x2)",
         "wALxivXMUCv2CFwtfAA1",
         "touchdown_halo",
         "sNDSCcBtCDbGlzCaRwVVOFfQDTF2",
         "2025-07-10T23:12:31.12Z",
         0.021460162275337837,
         0.57925252464748,
         -1.236305664478287,
         0.06015624006475405,
         -8.65149366235442,
         -3.504816809226568,
         1.7787582219481952,
         -7.0762387632716255,
         8.355767730079801,
         4.156,
         23
        ],
        [
         "Irish Surge",
         "N",
         "OVStDBpuuusBGpgA0XrW",
         "irish_surge",
         "sNDSCcBtCDbGlzCaRwVVOFfQDTF2",
         "2025-06-27T02:33:50.127Z",
         -0.32200906252479833,
         1.8949646985180746,
         -1.3769196436583324,
         -1.0800020179799474,
         -6.131980418555598,
         -4.812926966877945,
         2.122140216446455,
         32.5652810074225,
         7.206269249796246,
         4.86,
         2
        ],
        [
         "Irish Surge",
         "N",
         "ugnbauerxQmmoXngzEJh",
         "irish_surge",
         "mvMEQgMQXBg4rZzOLhmqdGbOPXk1",
         "2025-07-20T19:53:32.723Z",
         -0.03048878397907629,
         0.07665740452410637,
         -0.34888211362677907,
         0.4224391576814182,
         -9.379118940993248,
         -2.4765481959114077,
         6.015555004743119,
         -3.804396186283923,
         -2.767495253041525,
         2.671,
         19
        ],
        [
         "Collapse Left",
         "<",
         "T8NZZw6habKJA4hhCkWo",
         "collapse_left",
         "3T02i8MvMYV0f7Xz7MCnvyLMpLG3",
         "2025-07-10T14:52:15.552Z",
         0.0867760740224559,
         0.26386529284181987,
         -0.5467424296799535,
         -0.15874897153096898,
         -8.996968456872812,
         -2.59552891810729,
         -11.209872644473243,
         -2.211464477661841,
         -5.178985984560956,
         2.866,
         14
        ],
        [
         "Irish Surge",
         "N",
         "Vqap4JRBFqFsOBG05qqJ",
         "irish_surge",
         "A7P5QM0SuEh30sbaJVr4DwwQvpz2",
         "2025-06-15T02:41:46.681Z",
         -0.17884615384615402,
         -0.5019230769230767,
         1.4993589743589746,
         0.5467948717948721,
         8.916025641025632,
         1.2205128205128195,
         17.423717948717965,
         -11.848076923076924,
         -6.741666666666672,
         2.637,
         2
        ],
        [
         "Touchdown Halo",
         "O (Circle x2)",
         "vPnHkh52wx0heZcfNJVI",
         "touchdown_halo",
         "n13pC0Eu2wgFT7kDPFO9mI7bJnJ2",
         "2025-06-29T00:53:41.725Z",
         0.15140985868261791,
         0.7456883830220782,
         -1.0795182292345733,
         0.6986448025594395,
         -4.2094555931883,
         -8.974944238253725,
         9.857917558647175,
         9.71480475301966,
         -16.336599494934415,
         5.007,
         0
        ],
        [
         "Collapse Left",
         "<",
         "w99zw1lrfNnBL3S0eemS",
         "collapse_left",
         "jUmt1zPgyZORPZuC55z8aeGyMqJ2",
         "2025-06-15T02:45:28.782Z",
         0.5145945945945956,
         -2.6902702702702683,
         0.0529729729729736,
         1.7513513513513492,
         1.2502702702702713,
         8.238378378378382,
         -13.244324324324333,
         8.794054054054055,
         5.334054054054071,
         1.856,
         2
        ],
        [
         "Collapse Left",
         "<",
         "sfs0aWo7ilPkri3Y3BPM",
         "collapse_left",
         "Q55o2vIYKiOHUpN7hQk5oQEPrDd2",
         "2025-07-25T16:10:19.728Z",
         0.019699236510310164,
         -0.020957591809317257,
         0.08144932157883296,
         -0.1181850533310936,
         9.634866624526513,
         1.060055617327116,
         -5.381329943570469,
         2.015401908094498,
         -0.520483008561312,
         3.98,
         16
        ],
        [
         "Touchdown Halo",
         "O (Circle x2)",
         "dcxdC4EUjlbx27wC9yxq",
         "touchdown_halo",
         "WeNzNivJuegep48EQna4cuQQFcg1",
         "2025-07-22T00:27:02.812Z",
         0.008227945214337017,
         0.15412281915460307,
         -0.48075118776921716,
         -0.2599943746145457,
         -9.549966330685614,
         -1.2286981372269192,
         -1.3420625175359842,
         0.13282649211638078,
         2.8342336442905105,
         4.146,
         0
        ],
        [
         "Touchdown Halo",
         "O (Circle x2)",
         "CMm8sLBOUW38WWCesZIc",
         "touchdown_halo",
         "PIYoM7g2NPeWCyJzADmC8Q3AoNU2",
         "2025-07-26T01:12:43.029Z",
         -0.3608095939925161,
         3.958277273409507,
         -4.141952474397828,
         -2.0175726008457495,
         0.3955886234848099,
         -9.743558428134174,
         -6.283485477007494,
         -60.87685384820577,
         44.85817327627446,
         4.458,
         1
        ],
        [
         "Touchdown Halo",
         "O (Circle x2)",
         "al4ugBpGVyBrx3YKG3sY",
         "touchdown_halo",
         "SlZVgkV1ElRlZJs1t5UE4rr99vE3",
         "2025-06-15T02:51:48.998Z",
         -1.9541502414048462,
         4.62514454363376,
         -2.0264674888923557,
         -4.386221947791947,
         -1.376014074826673,
         -6.824155985528196,
         19.339589691353105,
         -46.75991565798007,
         31.422824116983875,
         3.637,
         2
        ],
        [
         "Collapse Left",
         "<",
         "gyLY0V5TCBH5tq8hFiq7",
         "collapse_left",
         "3T02i8MvMYV0f7Xz7MCnvyLMpLG3",
         "2025-07-10T14:50:44.293Z",
         -0.029162747163973338,
         0.1617724919912901,
         -0.28168843225656803,
         -0.1879156754172538,
         -8.628099421270662,
         -3.727807998853061,
         -5.697369252334881,
         1.7555182198995913,
         -1.1565827377611169,
         5.008,
         14
        ],
        [
         "Touchdown Halo",
         "O (Circle x2)",
         "g74I0C453gO1R4kJNK8y",
         "touchdown_halo",
         "SlZVgkV1ElRlZJs1t5UE4rr99vE3",
         "2025-06-15T02:51:31.122Z",
         -0.737525037925951,
         3.011201294368628,
         -2.099018411694728,
         -2.400379113184103,
         -4.351631755855057,
         -6.324808603292958,
         7.139662262476092,
         -24.14626462335429,
         23.693037930369258,
         3.505,
         2
        ],
        [
         "Touchdown Halo",
         "O (Circle x2)",
         "Au3I2vBLCA9hfElsPUXx",
         "touchdown_halo",
         "sNDSCcBtCDbGlzCaRwVVOFfQDTF2",
         "2025-06-27T01:50:44.366Z",
         -0.16758346253214612,
         1.0432296970833925,
         -1.8306997456299396,
         -1.213704482437035,
         -7.720779149980833,
         -4.030563044934741,
         -0.6309551121486104,
         -9.594107907000524,
         18.81025593979753,
         3.712,
         1
        ],
        [
         "Irish Surge",
         "N",
         "WB1mwp4t36qHQcnzNFQf",
         "irish_surge",
         "yyJqKEAv0qZCzmksNJA26VVizfE3",
         "2025-06-15T02:42:38.126Z",
         -0.006280873006239721,
         0.300461306348708,
         -1.134279305886949,
         0.11230451583749704,
         -8.558854781451888,
         -3.5776041904896503,
         22.556105033931757,
         -16.96776694867394,
         -4.276490929787314,
         2.256,
         2
        ],
        [
         "Touchdown Halo",
         "O (Circle x2)",
         "CpVz5MMPcSIu2qknfqL5",
         "touchdown_halo",
         "A7P5QM0SuEh30sbaJVr4DwwQvpz2",
         "2025-06-15T02:42:06.083Z",
         -0.7084415584415582,
         -0.5451298701298704,
         1.8834415584415585,
         -1.0198051948051952,
         8.38733766233766,
         4.398376623376622,
         -4.145779220779217,
         -7.846428571428574,
         14.53961038961039,
         5.007,
         2
        ],
        [
         "Touchdown Halo",
         "O (Circle x2)",
         "cJEyD3hi7Sg9ATFuZ1RH",
         "touchdown_halo",
         "jUmt1zPgyZORPZuC55z8aeGyMqJ2",
         "2025-06-15T02:44:52.978Z",
         2.7084999999999964,
         -7.185500000000002,
         0.3820000000000008,
         6.535249999999992,
         -2.492999999999998,
         0.3222500000000008,
         1.8127499999999983,
         -8.87074999999994,
         -4.25625,
         4.595,
         2
        ],
        [
         "Touchdown Halo",
         "O (Circle x2)",
         "BLjMutelDfEJDP72Mj1Y",
         "touchdown_halo",
         "A7P5QM0SuEh30sbaJVr4DwwQvpz2",
         "2025-06-15T02:42:18.072Z",
         -0.4424812030075183,
         -0.8984962406015041,
         2.1808270676691754,
         -0.8729323308270687,
         8.116541353383461,
         3.9300751879699227,
         -3.5872180451127793,
         -6.391729323308269,
         18.412781954887222,
         4.087,
         2
        ],
        [
         "Collapse Left",
         "<",
         "gJs9z1VAMg2tiXK5KBoW",
         "collapse_left",
         "sNDSCcBtCDbGlzCaRwVVOFfQDTF2",
         "2025-07-01T13:36:29.102Z",
         -0.02239414085893637,
         0.5444839508352484,
         -1.3952757284673198,
         0.4577731725880725,
         -8.25394968973151,
         -5.1904485712623645,
         -13.932177582251407,
         9.170670649594468,
         -4.157455062283253,
         2.048,
         13
        ],
        [
         "Collapse Left",
         "<",
         "85Pvi5mloW2PV0igRHlg",
         "collapse_left",
         "SlZVgkV1ElRlZJs1t5UE4rr99vE3",
         "2025-06-16T16:38:43.451Z",
         -0.05186451419473918,
         1.034920622411967,
         -1.863344428725689,
         0.8951632245762716,
         -7.118334093196393,
         -6.583231367943535,
         -15.094397308813576,
         14.793127105075568,
         -7.166919312396174,
         1.746,
         16
        ],
        [
         "Touchdown Halo",
         "O (Circle x2)",
         "FH4JhbzbTxl5rmDndi5d",
         "touchdown_halo",
         "SlZVgkV1ElRlZJs1t5UE4rr99vE3",
         "2025-06-15T02:51:59.146Z",
         -1.7865674982507016,
         4.288238684407612,
         -0.6968327217715632,
         -5.040687006254235,
         -1.4456007182458892,
         -5.430816670538264,
         18.082248200114222,
         -43.784523434065285,
         11.901110896037064,
         4.055,
         2
        ],
        [
         "Irish Surge",
         "N",
         "GHvKdwUQPGlt3JJzVMZO",
         "irish_surge",
         "WeNzNivJuegep48EQna4cuQQFcg1",
         "2025-07-22T00:36:18.802Z",
         0.007781155543250013,
         0.03528835667392771,
         -0.18268767676414482,
         -0.04448902069746047,
         -9.659030506201471,
         -1.3193647744767854,
         3.789930045500652,
         -2.693209587537488,
         0.5660217344425129,
         2.849,
         0
        ],
        [
         "Collapse Left",
         "<",
         "hcAXFNlSAyYToDLTnqen",
         "collapse_left",
         "7hOsavOpK9hQ53r43R19b8kHxS72",
         "2025-06-15T05:41:47.103Z",
         -0.005573770491803305,
         -0.08000000000000024,
         0.07377049180327869,
         0.3537704918032785,
         1.087868852459016,
         9.779016393442625,
         -2.8134426229508214,
         -0.8714754098360651,
         0.5229508196721324,
         5.007,
         5
        ],
        [
         "Collapse Left",
         "<",
         "Da3rrGl3jP7bOzsarG31",
         "collapse_left",
         "PIYoM7g2NPeWCyJzADmC8Q3AoNU2",
         "2025-07-19T20:14:01.379Z",
         -0.5033681342189708,
         1.211775609379245,
         -1.710716940369135,
         -0.09519356068848803,
         -5.387816949639616,
         -6.610920883366905,
         -27.80825794307516,
         27.419897207020206,
         -3.3370092113289407,
         2.553,
         20
        ],
        [
         "Touchdown Halo",
         "O (Circle x2)",
         "GMU0N1fL65ifmgHARUxP",
         "touchdown_halo",
         "SlZVgkV1ElRlZJs1t5UE4rr99vE3",
         "2025-06-15T02:51:39.547Z",
         -1.3335014398201557,
         4.082232150992243,
         -1.8436950894403195,
         -2.7608382171708588,
         -2.276407253129639,
         -7.186879971217719,
         10.227448074181357,
         -35.75452101879539,
         20.593387548041044,
         3.355,
         2
        ],
        [
         "Collapse Left",
         "<",
         "Avr43lXJbov4LGbDDkCv",
         "collapse_left",
         "jUmt1zPgyZORPZuC55z8aeGyMqJ2",
         "2025-06-15T02:45:19.17Z",
         1.24672131147541,
         -4.129508196721311,
         -0.21311475409836078,
         3.261475409836066,
         1.2577868852459018,
         6.277868852459016,
         -15.272131147540984,
         0.4795081967213065,
         3.2471311475409856,
         2.353,
         2
        ],
        [
         "Irish Surge",
         "N",
         "hm5aaJ9bygIJc4Sga8kD",
         "irish_surge",
         "sNDSCcBtCDbGlzCaRwVVOFfQDTF2",
         "2025-07-11T01:10:01.072Z",
         0.16731684708426267,
         0.17350489650716655,
         -0.6638397094484154,
         0.16108981336932937,
         -9.192957622553628,
         -2.3433586861636946,
         7.374784710177487,
         -4.961556181392216,
         -1.6544724938045965,
         3.33,
         1
        ],
        [
         "Irish Surge",
         "N",
         "dGHTXU9Y1Qtkbjyt2gIU",
         "irish_surge",
         "SlZVgkV1ElRlZJs1t5UE4rr99vE3",
         "2025-06-15T02:51:03.092Z",
         -1.2517643487995758,
         4.579668790734681,
         -3.0446464290873214,
         -2.1688921710854125,
         -2.4737033635061905,
         -7.531668834421929,
         19.08739604642747,
         -13.231933452263544,
         -16.013200693716414,
         2.12,
         2
        ],
        [
         "Collapse Left",
         "<",
         "8aas0YzVO4fjXTTafQIK",
         "collapse_left",
         "A7P5QM0SuEh30sbaJVr4DwwQvpz2",
         "2025-06-15T02:43:51.674Z",
         0.06534090909090912,
         -0.02102272727272735,
         0.857954545454545,
         0.010795454545454324,
         9.009659090909098,
         3.559090909090908,
         -18.240909090909085,
         -4.627272727272729,
         -11.907386363636363,
         2.692,
         2
        ],
        [
         "Collapse Left",
         "<",
         "6BeNxvXJMB7t7cZiyfkI",
         "collapse_left",
         "yyJqKEAv0qZCzmksNJA26VVizfE3",
         "2025-06-15T02:41:14.604Z",
         -0.01134925700222837,
         0.011257538676486822,
         -0.001742531439802536,
         0.20719018484830523,
         -6.6197855944787545,
         -7.216528524461608,
         1.8887772934273563,
         0.931309281539024,
         -0.27429916548915945,
         1.77,
         2
        ],
        [
         "Irish Surge",
         "N",
         "eMOlsP0oUYmIqpmAuiMU",
         "irish_surge",
         "3T02i8MvMYV0f7Xz7MCnvyLMpLG3",
         "2025-07-10T14:52:48.665Z",
         0.18277040725993143,
         0.0023575987012810335,
         -0.6947757670373041,
         -0.7563060167212292,
         -9.491420634066046,
         -0.2041469342844937,
         3.3318503537469204,
         -2.192069849524228,
         3.169148509858149,
         4.98,
         14
        ],
        [
         "Irish Surge",
         "N",
         "6kKbmHIlPZputvgUGwKa",
         "irish_surge",
         "PIYoM7g2NPeWCyJzADmC8Q3AoNU2",
         "2025-07-26T01:14:31.528Z",
         -0.15744406151010085,
         3.5800306986076946,
         -1.2030806872095696,
         -0.625209059457379,
         0.6683423313970899,
         -8.695904383038572,
         31.61725930000527,
         -9.371997992996524,
         -10.589438460864114,
         2.902,
         1
        ],
        [
         "Irish Surge",
         "N",
         "A4mlfmfvvLXobGFZYXMl",
         "irish_surge",
         "SlZVgkV1ElRlZJs1t5UE4rr99vE3",
         "2025-06-15T02:51:19.607Z",
         -0.6250537361398035,
         3.3085199696911496,
         -1.5857774906200552,
         -2.1739283731099133,
         -3.9819315404124787,
         -6.1705554582285504,
         5.6076333956609075,
         -15.309630486651189,
         -11.353649364019056,
         2.533,
         2
        ],
        [
         "Collapse Left",
         "<",
         "eGIHJ94yna8QxnJdgPg4",
         "collapse_left",
         "Lpdfv7XnLMQ5gVb46Rc6K9DhgWN2",
         "2025-07-01T13:36:45.275Z",
         -0.0416357364818811,
         0.15055834456739525,
         -0.0631086541364972,
         -1.3397945948085528,
         -5.991855067436855,
         -7.507084823258104,
         -4.2741462474784555,
         3.1339745785106072,
         2.7220695187408572,
         3.029,
         13
        ],
        [
         "Collapse Left",
         "<",
         "7WMTZ00d9qmA0izgSrva",
         "collapse_left",
         "sNDSCcBtCDbGlzCaRwVVOFfQDTF2",
         "2025-06-16T17:11:06.652Z",
         -0.18036775204629904,
         1.7744850199825564,
         -1.6308087726605427,
         1.0185134249749404,
         -5.317107619843183,
         -7.045993897241677,
         -29.880527440291445,
         6.746302086852768,
         -1.0585465981730815,
         1.748,
         17
        ],
        [
         "Collapse Left",
         "<",
         "YEiwKNGaPTNduop7M9t9",
         "collapse_left",
         "WeNzNivJuegep48EQna4cuQQFcg1",
         "2025-07-07T02:54:00.817Z",
         -0.050729421203252474,
         0.07234042906761158,
         -0.1759163289144743,
         0.18986961159184496,
         -9.616333944885389,
         -1.174411202429787,
         -3.3820394181664777,
         0.6948464519271133,
         -0.5642645140977041,
         3.469,
         2
        ],
        [
         "Touchdown Halo",
         "O (Circle x2)",
         "78usKvy4Yp9FLMNh5d6D",
         "touchdown_halo",
         "Lpdfv7XnLMQ5gVb46Rc6K9DhgWN2",
         "2025-07-02T01:56:11.026Z",
         -1.2378713077061787,
         1.0238367897764247,
         -2.0080096989146616,
         -3.260590186207864,
         -7.358123370605581,
         -3.7888578362661844,
         9.856909169186837,
         -7.772277931937745,
         19.74616167576738,
         4.42,
         1
        ],
        [
         "Irish Surge",
         "N",
         "29Ha6Y92iCipu8yPCwhZ",
         "irish_surge",
         "Q55o2vIYKiOHUpN7hQk5oQEPrDd2",
         "2025-07-25T16:10:59.465Z",
         -0.022101494170315667,
         -0.029032544565334124,
         0.059663712436755126,
         -0.0028025906171496935,
         9.703098202018348,
         0.9226711851848247,
         2.235376305842576,
         -0.06348441525918795,
         -0.6533958559407951,
         4.384,
         16
        ],
        [
         "Touchdown Halo",
         "O (Circle x2)",
         "54F5PZ24VIXQiatpUNLY",
         "touchdown_halo",
         "PIYoM7g2NPeWCyJzADmC8Q3AoNU2",
         "2025-07-26T01:12:57.047Z",
         -1.5401158978980736,
         4.40609276921601,
         -3.137992593542165,
         -3.988961201095761,
         1.2486643436675662,
         -9.171128545310824,
         11.102846492180914,
         -59.02575637748422,
         31.302031090692275,
         4.456,
         1
        ],
        [
         "Touchdown Halo",
         "O (Circle x2)",
         "mNTnbdzlG19jOOXLp6A9",
         "touchdown_halo",
         "A7P5QM0SuEh30sbaJVr4DwwQvpz2",
         "2025-06-15T02:42:30.766Z",
         -0.4605150214592274,
         -1.3416309012875538,
         3.209012875536481,
         -1.081974248927038,
         7.356223175965666,
         5.4188841201716755,
         -8.281545064377685,
         -10.236909871244654,
         25.889699570815452,
         3.74,
         2
        ],
        [
         "Irish Surge",
         "N",
         "iIg3BiiKfc5vdDCqBeeN",
         "irish_surge",
         "PIYoM7g2NPeWCyJzADmC8Q3AoNU2",
         "2025-07-26T01:14:05.709Z",
         -0.5926502586430391,
         4.774936654868859,
         -1.0364502191608829,
         -2.245269284995796,
         3.6379085024187208,
         -8.916627684200938,
         21.033022500755852,
         -10.452538488638918,
         -6.491583368964258,
         2.906,
         1
        ],
        [
         "Irish Surge",
         "N",
         "4gy7WbEGI36m14m1QIgW",
         "irish_surge",
         "PIYoM7g2NPeWCyJzADmC8Q3AoNU2",
         "2025-07-20T02:21:17.796Z",
         0.4324244284283265,
         3.5757792077169808,
         -2.4562619384373368,
         -1.588444501724726,
         -0.3542370694388987,
         -8.881154689662115,
         10.7818768723716,
         1.617702072661576,
         -8.977840037861391,
         3.607,
         2
        ],
        [
         "Irish Surge",
         "N",
         "mlSeuxxqYGHl2TxImvVM",
         "irish_surge",
         "SlZVgkV1ElRlZJs1t5UE4rr99vE3",
         "2025-06-15T02:50:55.924Z",
         -1.9373779246251739,
         5.186085992506722,
         -2.5791600961377887,
         -2.692182217657311,
         -0.909571479275075,
         -8.01050357978148,
         11.064770096787857,
         -9.546438700614845,
         -11.312206808357743,
         2.293,
         2
        ],
        [
         "Collapse Left",
         "<",
         "5Q3EOcGy71GobUOWdPgZ",
         "collapse_left",
         "EMr3nqqL6ygD1MYdgxrJosFUzn63",
         "2025-07-12T17:16:01.57Z",
         -0.4563288258862897,
         1.0392512698918497,
         -0.5675945094857444,
         -2.7246417745788847,
         -4.32206343988107,
         -6.751774294218956,
         -10.509433302512859,
         12.008210617532447,
         10.58152308017483,
         2.903,
         17
        ],
        [
         "Irish Surge",
         "N",
         "1DlnbeuO7ggujkFLGkvG",
         "irish_surge",
         "A7P5QM0SuEh30sbaJVr4DwwQvpz2",
         "2025-06-15T02:43:36.13Z",
         -0.09957264957264969,
         -0.1188034188034186,
         0.7790598290598291,
         0.6235042735042741,
         9.5957264957265,
         2.4401709401709377,
         0.2692307692307695,
         -6.868376068376071,
         -2.6628205128205145,
         3.935,
         2
        ],
        [
         "Irish Surge",
         "N",
         "jkp9tyCnpE3gzcVLDarC",
         "irish_surge",
         "yyJqKEAv0qZCzmksNJA26VVizfE3",
         "2025-06-15T02:41:29.563Z",
         -0.2808488785587476,
         0.24663428044030083,
         -0.9672134948389921,
         -0.3503861433797892,
         -7.238543324552602,
         -6.292581173551208,
         -2.7546045365296137,
         4.60973306236908,
         1.3978761596612626,
         5.007,
         2
        ],
        [
         "Collapse Left",
         "<",
         "jVVqN38VN2s9crp61nrl",
         "collapse_left",
         "PIYoM7g2NPeWCyJzADmC8Q3AoNU2",
         "2025-07-26T01:13:40.836Z",
         -1.0051821433978503,
         2.688572895192534,
         -1.763918663987757,
         -2.5890553879907743,
         1.2488701801776179,
         -9.51092314764237,
         -8.300445362108668,
         4.352584897285031,
         -8.802331388318988,
         2.972,
         1
        ],
        [
         "Irish Surge",
         "N",
         "ljixfEUUHWkhEnG7Gfqr",
         "irish_surge",
         "PIYoM7g2NPeWCyJzADmC8Q3AoNU2",
         "2025-07-26T01:11:44.001Z",
         -0.22916687872949332,
         1.0970336633024789,
         -1.4071442475511595,
         -2.695589175682047,
         -6.384415371974704,
         -5.9446905259375,
         5.816100384367673,
         -9.398012993410783,
         -1.5831946632850986,
         3.015,
         1
        ],
        [
         "Touchdown Halo",
         "O (Circle x2)",
         "icSl571mwULNPOHdDB8v",
         "touchdown_halo",
         "yyJqKEAv0qZCzmksNJA26VVizfE3",
         "2025-06-15T02:48:50.932Z",
         0.03940055598345232,
         1.1632667310797213,
         -1.8411039071198407,
         -1.0759629649007627,
         -7.317402119593558,
         -4.578418004510051,
         4.503547509246084,
         -14.699729849759368,
         23.875440515214617,
         3.305,
         2
        ],
        [
         "Collapse Left",
         "<",
         "lSY1ZPeVKDYg1TLwrFES",
         "collapse_left",
         "A7P5QM0SuEh30sbaJVr4DwwQvpz2",
         "2025-06-15T02:41:08.005Z",
         -0.005882352941176279,
         -0.3790849673202613,
         0.9758169934640515,
         -1.8581699346405225,
         7.832026143790849,
         3.839869281045753,
         -14.802614379084977,
         -8.230718954248367,
         -14.024836601307188,
         2.595,
         2
        ],
        [
         "Collapse Left",
         "<",
         "nRdL1s0u068525pjFsbW",
         "collapse_left",
         "PIYoM7g2NPeWCyJzADmC8Q3AoNU2",
         "2025-07-26T01:13:51.586Z",
         -1.2748050644442832,
         2.6731306151104386,
         -1.3807387460269223,
         -2.2460528516589555,
         0.5852217518444136,
         -9.306404827081561,
         -22.24422649118599,
         0.9799668973405808,
         -10.505484604922879,
         2.674,
         1
        ],
        [
         "Collapse Left",
         "<",
         "1IJGEH5GaHkk1lhJqa8Q",
         "collapse_left",
         "yyJqKEAv0qZCzmksNJA26VVizfE3",
         "2025-06-15T02:41:03.843Z",
         -0.07571355368336848,
         0.16927748259039865,
         -0.4219517146828201,
         -0.2606152812660018,
         -8.3522446441214,
         -4.3285365036025665,
         -11.527459516960102,
         6.813889334791008,
         0.517854151845976,
         3.31,
         2
        ],
        [
         "Touchdown Halo",
         "O (Circle x2)",
         "47UgyhAVQeGbf81EHWCL",
         "touchdown_halo",
         "yyJqKEAv0qZCzmksNJA26VVizfE3",
         "2025-06-15T02:44:46.322Z",
         0.15290558234080465,
         0.9433511911932395,
         -1.520778428832738,
         -1.838745053670319,
         -7.679792560796795,
         -3.1039060225763455,
         -5.639559323600062,
         -7.371794073019173,
         12.474830696398671,
         3.717,
         2
        ],
        [
         "Irish Surge",
         "N",
         "mpWe6Z3UF2X9GsFpcYew",
         "irish_surge",
         "A7P5QM0SuEh30sbaJVr4DwwQvpz2",
         "2025-06-15T02:41:35.415Z",
         -0.20118343195266272,
         -0.7349112426035502,
         1.8662721893491123,
         0.6414201183431948,
         8.660946745562129,
         2.3455621301775165,
         13.19763313609468,
         -15.638461538461545,
         -3.5485207100591745,
         2.817,
         2
        ],
        [
         "Collapse Left",
         "<",
         "6BRNZql8heCWmsoLhQjI",
         "collapse_left",
         "EMr3nqqL6ygD1MYdgxrJosFUzn63",
         "2025-07-24T21:12:02.454Z",
         -0.2340339774356638,
         1.0451447894050963,
         -0.5168660188794647,
         0.5775434824479762,
         -2.1475686444939064,
         -8.9747597855029,
         -27.006407229345204,
         1.8010577254059457,
         -5.173578553694596,
         1.936,
         21
        ],
        [
         "Collapse Left",
         "<",
         "m7pIyevpVUUNAIGUhZ9z",
         "collapse_left",
         "PIYoM7g2NPeWCyJzADmC8Q3AoNU2",
         "2025-07-26T01:12:02.989Z",
         -0.4234220154294559,
         1.5929671653662396,
         -1.0543229230892013,
         -0.23860151226864276,
         -3.9446882317523877,
         -7.173140150933513,
         -41.760970792702686,
         7.848013132149418,
         -1.301645517443608,
         2.374,
         1
        ],
        [
         "Irish Surge",
         "N",
         "hqRAQq9aQPSr3G01k05E",
         "irish_surge",
         "izX8B4Q6YoTSyMEbVBG95KD6F0f2",
         "2025-06-17T16:41:57.75Z",
         3.145408163265307,
         -3.65204081632653,
         0.6469387755102037,
         4.374489795918367,
         3.356122448979592,
         4.331122448979591,
         14.58061224489795,
         6.004081632653067,
         -7.491326530612248,
         3.175,
         16
        ],
        [
         "Touchdown Halo",
         "O (Circle x2)",
         "4Wbyk28GrZv96p9exFXf",
         "touchdown_halo",
         "mvMEQgMQXBg4rZzOLhmqdGbOPXk1",
         "2025-07-20T19:53:45.963Z",
         -0.15380404001477158,
         0.14032981786171433,
         -1.2513923696494376,
         -0.0655064782026274,
         -9.210945364949202,
         -3.2582485411656164,
         2.1194367645137024,
         1.8398075919848795,
         11.609194790116199,
         4.025,
         19
        ],
        [
         "Irish Surge",
         "N",
         "mM8yfumoWjCYYvxlZDeD",
         "irish_surge",
         "jUmt1zPgyZORPZuC55z8aeGyMqJ2",
         "2025-06-15T02:43:06.827Z",
         0.20305343511450405,
         -1.8318066157760835,
         0.39694656488549657,
         0.20076335877862642,
         5.291603053435115,
         5.859796437659043,
         9.874045801526728,
         1.3600508905852435,
         -4.74834605597964,
         4.055,
         2
        ],
        [
         "Touchdown Halo",
         "O (Circle x2)",
         "iJfAZWvumTEMsua0Hc6C",
         "touchdown_halo",
         "n13pC0Eu2wgFT7kDPFO9mI7bJnJ2",
         "2025-06-29T00:53:54.896Z",
         0.06697195421787108,
         1.5547000105696478,
         -1.731071413382525,
         0.9034225940740015,
         -3.735923733756001,
         -9.262151748745062,
         -0.9297274548450314,
         20.097012055149257,
         -21.2166609836884,
         4.781,
         0
        ],
        [
         "Collapse Left",
         "<",
         "jTV8MWjfDGkMzkhsfZgk",
         "collapse_left",
         "SlZVgkV1ElRlZJs1t5UE4rr99vE3",
         "2025-06-15T02:50:30.65Z",
         -0.1509126607285095,
         1.0336517379110424,
         -1.1811643058592594,
         0.3010814357923413,
         -7.108946468681549,
         -5.9377996832547915,
         -28.206200111335885,
         9.290185968010505,
         1.8401824793758654,
         1.565,
         2
        ],
        [
         "Touchdown Halo",
         "O (Circle x2)",
         "2aSWziIFSvFAn0gOzmk5",
         "touchdown_halo",
         "PIYoM7g2NPeWCyJzADmC8Q3AoNU2",
         "2025-07-20T02:21:33.67Z",
         0.7349680858658977,
         3.2751409497858823,
         -5.087150616659025,
         -1.5040770076067675,
         -1.1535535385631743,
         -10.051420657593729,
         -17.72419449244977,
         -44.44005166503234,
         49.54440535658556,
         4.272,
         2
        ],
        [
         "Irish Surge",
         "N",
         "ImK2b1dRd6trcjf3stkN",
         "irish_surge",
         "3T02i8MvMYV0f7Xz7MCnvyLMpLG3",
         "2025-07-10T14:51:51.642Z",
         -0.00664655462425943,
         0.030058821770173414,
         -0.5031085504714375,
         -0.30480664526731716,
         -9.636461369600706,
         -0.5568419688672785,
         2.0790991370484218,
         -1.6845480083848121,
         -1.1703224056532033,
         4.394,
         14
        ],
        [
         "Irish Surge",
         "N",
         "KFqDecAjmljCPTwVCWn7",
         "irish_surge",
         "7hOsavOpK9hQ53r43R19b8kHxS72",
         "2025-06-15T05:33:14.55Z",
         -0.05265957446808511,
         -0.1744680851063829,
         0.08599290780141834,
         0.3491134751773052,
         2.545921985815606,
         9.368262411347498,
         0.03776595744681519,
         -0.4200354609929061,
         0.16081560283687976,
         5.008,
         5
        ],
        [
         "Irish Surge",
         "N",
         "Nw7VAQHOv2U71alRn5HM",
         "irish_surge",
         "PIYoM7g2NPeWCyJzADmC8Q3AoNU2",
         "2025-07-26T01:14:19.229Z",
         -0.692235998599791,
         5.536813501544269,
         -1.7761845633823188,
         -1.4832128391600694,
         3.642966204419995,
         -9.146032653806646,
         30.577679065862245,
         -15.045580897011416,
         -14.155306226079594,
         2.657,
         1
        ],
        [
         "Touchdown Halo",
         "O (Circle x2)",
         "sEf4rx6HjujAoM52A5AN",
         "touchdown_halo",
         "sNDSCcBtCDbGlzCaRwVVOFfQDTF2",
         "2025-07-10T22:37:43.781Z",
         0.08091538659982354,
         0.521326228924511,
         -1.3102759779730655,
         -0.8653450191224346,
         -8.803922447416676,
         -2.350377723578657,
         -4.081765393711372,
         -2.2448950691804566,
         10.916339678573408,
         4.058,
         22
        ],
        [
         "Irish Surge",
         "N",
         "owBJVX1TmRrUNR3GrMQy",
         "irish_surge",
         "jUmt1zPgyZORPZuC55z8aeGyMqJ2",
         "2025-06-15T02:42:55.214Z",
         -0.1441489361702127,
         -0.13882978723404235,
         0.08882978723404268,
         0.11436170212765963,
         6.204787234042551,
         7.504255319148938,
         3.248936170212768,
         3.4920212765957466,
         0.5585106382978728,
         2.476,
         2
        ],
        [
         "Irish Surge",
         "N",
         "JreqV80lTYXk7pxSG4mj",
         "irish_surge",
         "yyJqKEAv0qZCzmksNJA26VVizfE3",
         "2025-06-15T02:41:39.327Z",
         -0.2084243349107956,
         0.14937012115666579,
         -0.7128807723928805,
         0.05242018552449726,
         -8.21346001676425,
         -4.022266433615117,
         -1.4080412008781473,
         1.976694473836933,
         2.927942471158168,
         4.884,
         2
        ],
        [
         "Irish Surge",
         "N",
         "IiSlLCv6Vcqk8qEpUPud",
         "irish_surge",
         "7hOsavOpK9hQ53r43R19b8kHxS72",
         "2025-06-15T05:33:31.633Z",
         -0.020303030303030278,
         -0.12939393939393942,
         0.07212121212121216,
         0.6960606060606062,
         1.907878787878791,
         9.605757575757586,
         1.458787878787878,
         -0.9136363636363632,
         -0.3336363636363642,
         5.003,
         5
        ],
        [
         "Touchdown Halo",
         "O (Circle x2)",
         "ppW3OWbs6DbnsBWWYW6y",
         "touchdown_halo",
         "PIYoM7g2NPeWCyJzADmC8Q3AoNU2",
         "2025-07-20T02:21:46.872Z",
         0.8585445633001823,
         5.919363419738435,
         -6.120301744493165,
         -1.4661863972035234,
         1.4183864276126221,
         -10.989547439826886,
         -31.976645156208473,
         -69.53816512171115,
         57.71387375872689,
         3.802,
         2
        ],
        [
         "Touchdown Halo",
         "O (Circle x2)",
         "NOk7qZrwRGORHmuWsLvq",
         "touchdown_halo",
         "A7P5QM0SuEh30sbaJVr4DwwQvpz2",
         "2025-06-15T02:42:53.287Z",
         -0.8668571428571427,
         -1.9497142857142873,
         3.8954285714285697,
         -1.4205714285714277,
         6.808000000000002,
         5.971428571428572,
         -4.685142857142861,
         -21.10742857142857,
         27.757142857142853,
         2.989,
         2
        ],
        [
         "Touchdown Halo",
         "O (Circle x2)",
         "qtrtFBr3Lmrb7KVvpu54",
         "touchdown_halo",
         "Q55o2vIYKiOHUpN7hQk5oQEPrDd2",
         "2025-07-25T16:13:15.87Z",
         0.0819718765284148,
         -0.4135132809536636,
         2.7127256503245545,
         2.7108084394225935,
         7.96863398909682,
         4.390107498926103,
         0.2674776941735973,
         -0.3973063712290436,
         33.813116697942995,
         4.229,
         16
        ],
        [
         "Collapse Left",
         "<",
         "okQvCCbM3OCE9Vx2ZQtt",
         "collapse_left",
         "yyJqKEAv0qZCzmksNJA26VVizfE3",
         "2025-06-15T02:42:15.007Z",
         -0.24583102135223045,
         0.821895093445778,
         -1.2274304267373677,
         -0.8788409570009904,
         -8.162104210011957,
         -3.1142797732496668,
         -24.545225744417387,
         25.536533009545728,
         -2.17483316337239,
         1.755,
         2
        ],
        [
         "Collapse Left",
         "<",
         "q9LRtY2gvP2cRBAZ5Tfc",
         "collapse_left",
         "yyJqKEAv0qZCzmksNJA26VVizfE3",
         "2025-06-15T02:42:28.738Z",
         -0.07828136875158709,
         0.4892507886619621,
         -1.0482413117185,
         -0.1687102649969796,
         -8.697052644797227,
         -2.989118533744351,
         -27.89638629100008,
         13.478175421095232,
         -0.8583925390272441,
         1.604,
         2
        ],
        [
         "Collapse Left",
         "<",
         "IL7pBQEeF2yPmWLGjsqw",
         "collapse_left",
         "A7P5QM0SuEh30sbaJVr4DwwQvpz2",
         "2025-06-15T02:40:51.732Z",
         -0.018115942028985473,
         -0.11014492753623187,
         0.6608695652173914,
         -0.8195652173913045,
         8.682608695652172,
         3.11159420289855,
         -17.455797101449278,
         -5.390579710144926,
         -12.901449275362324,
         2.371,
         2
        ],
        [
         "Collapse Left",
         "<",
         "LnpFrUtit9nckLaVJI37",
         "collapse_left",
         "7hOsavOpK9hQ53r43R19b8kHxS72",
         "2025-06-15T05:42:10.027Z",
         0.01601562500000001,
         -0.05820312500000001,
         -0.005859375000000024,
         0.009765625000000097,
         1.0832031250000003,
         9.737890625000006,
         0.36015624999999996,
         0.4105468749999991,
         -1.4367187499999985,
         2.753,
         5
        ],
        [
         "Irish Surge",
         "N",
         "LrArDuXEy6HzQ0331kjM",
         "irish_surge",
         "A7P5QM0SuEh30sbaJVr4DwwQvpz2",
         "2025-06-15T02:43:07.288Z",
         -0.46871165644171764,
         -0.4472392638036812,
         1.8306748466257672,
         -0.7668711656441716,
         9.218404907975456,
         2.669325153374233,
         2.86932515337423,
         -8.722699386503066,
         -0.5331288343558301,
         2.711,
         2
        ],
        [
         "Irish Surge",
         "N",
         "LZw2JufycUq9bEK1e2ar",
         "irish_surge",
         "Lpdfv7XnLMQ5gVb46Rc6K9DhgWN2",
         "2025-07-02T01:55:55.338Z",
         -0.11490678199386513,
         0.07081836784230719,
         -0.043859991512011864,
         -1.844338011751224,
         -3.2700534416134595,
         -9.010899867914436,
         1.0150187971438376,
         -5.480661611190429,
         -5.321543510763116,
         3.577,
         1
        ],
        [
         "Irish Surge",
         "N",
         "HYkTECkijEGb9udm9nkd",
         "irish_surge",
         "EMr3nqqL6ygD1MYdgxrJosFUzn63",
         "2025-07-12T17:16:14.709Z",
         -0.657346768874648,
         2.9114762876263747,
         -0.8872280140089973,
         -1.7131672765779984,
         -2.9163830753640254,
         -7.233093377179926,
         21.857799920328034,
         -5.646522538523485,
         -8.415506243896683,
         2.6,
         17
        ],
        [
         "Collapse Left",
         "<",
         "LVhtMcAvZA25Ez8xcg2g",
         "collapse_left",
         "Gj9r95rnXdT2pSyXwA3D2mTG2iK2",
         "2025-06-17T02:18:42.106Z",
         -0.16550902616572558,
         0.4650512067219033,
         -0.45919628212652847,
         -0.058219016206924046,
         -8.632577118858203,
         -3.488851970751963,
         -11.654394180254869,
         7.804032629831704,
         7.912710541199751,
         2.045,
         2
        ],
        [
         "Touchdown Halo",
         "O (Circle x2)",
         "pkgfTBjlnmgoL5IuBQng",
         "touchdown_halo",
         "EMr3nqqL6ygD1MYdgxrJosFUzn63",
         "2025-07-24T22:19:50.799Z",
         -1.0742226302963662,
         0.8815038047057075,
         -2.1684365395593885,
         -1.7935817390706408,
         -7.013028658652173,
         -5.534826619283359,
         14.60361098361234,
         -10.238290930744775,
         34.20598545329156,
         5.011,
         22
        ]
       ],
       "datasetInfos": [
        {
         "name": "_sqldf",
         "schema": {
          "fields": [
           {
            "metadata": {},
            "name": "gesture_play",
            "nullable": false,
            "type": "string"
           },
           {
            "metadata": {},
            "name": "gesture",
            "nullable": false,
            "type": "string"
           },
           {
            "metadata": {},
            "name": "signal_ID",
            "nullable": false,
            "type": "string"
           },
           {
            "metadata": {},
            "name": "play_ID",
            "nullable": false,
            "type": "string"
           },
           {
            "metadata": {},
            "name": "user_ID",
            "nullable": false,
            "type": "string"
           },
           {
            "metadata": {},
            "name": "time_stamp",
            "nullable": false,
            "type": "timestamp"
           },
           {
            "metadata": {},
            "name": "avg_accel_x",
            "nullable": true,
            "type": "double"
           },
           {
            "metadata": {},
            "name": "avg_accel_y",
            "nullable": true,
            "type": "double"
           },
           {
            "metadata": {},
            "name": "avg_accel_z",
            "nullable": true,
            "type": "double"
           },
           {
            "metadata": {},
            "name": "avg_grav_x",
            "nullable": true,
            "type": "double"
           },
           {
            "metadata": {},
            "name": "avg_grav_y",
            "nullable": true,
            "type": "double"
           },
           {
            "metadata": {},
            "name": "avg_grav_z",
            "nullable": true,
            "type": "double"
           },
           {
            "metadata": {},
            "name": "avg_rot_alpha",
            "nullable": true,
            "type": "double"
           },
           {
            "metadata": {},
            "name": "avg_rot_beta",
            "nullable": true,
            "type": "double"
           },
           {
            "metadata": {},
            "name": "avg_rot_gamma",
            "nullable": true,
            "type": "double"
           },
           {
            "metadata": {},
            "name": "duration_seconds",
            "nullable": true,
            "type": "double"
           },
           {
            "metadata": {},
            "name": "signal_hour",
            "nullable": false,
            "type": "integer"
           }
          ],
          "type": "struct"
         },
         "tableIdentifier": null,
         "typeStr": "pyspark.sql.dataframe.DataFrame"
        }
       ],
       "dbfsResultPath": null,
       "isJsonSchema": true,
       "metadata": {
        "createTempViewForImplicitDf": true,
        "dataframeName": "_sqldf",
        "executionCount": 1
       },
       "overflow": false,
       "plotOptions": {
        "customPlotOptions": {},
        "displayType": "table",
        "pivotAggregation": null,
        "pivotColumns": null,
        "xColumns": null,
        "yColumns": null
       },
       "removedWidgets": [],
       "schema": [
        {
         "metadata": "{}",
         "name": "gesture_play",
         "type": "\"string\""
        },
        {
         "metadata": "{}",
         "name": "gesture",
         "type": "\"string\""
        },
        {
         "metadata": "{}",
         "name": "signal_ID",
         "type": "\"string\""
        },
        {
         "metadata": "{}",
         "name": "play_ID",
         "type": "\"string\""
        },
        {
         "metadata": "{}",
         "name": "user_ID",
         "type": "\"string\""
        },
        {
         "metadata": "{}",
         "name": "time_stamp",
         "type": "\"timestamp\""
        },
        {
         "metadata": "{}",
         "name": "avg_accel_x",
         "type": "\"double\""
        },
        {
         "metadata": "{}",
         "name": "avg_accel_y",
         "type": "\"double\""
        },
        {
         "metadata": "{}",
         "name": "avg_accel_z",
         "type": "\"double\""
        },
        {
         "metadata": "{}",
         "name": "avg_grav_x",
         "type": "\"double\""
        },
        {
         "metadata": "{}",
         "name": "avg_grav_y",
         "type": "\"double\""
        },
        {
         "metadata": "{}",
         "name": "avg_grav_z",
         "type": "\"double\""
        },
        {
         "metadata": "{}",
         "name": "avg_rot_alpha",
         "type": "\"double\""
        },
        {
         "metadata": "{}",
         "name": "avg_rot_beta",
         "type": "\"double\""
        },
        {
         "metadata": "{}",
         "name": "avg_rot_gamma",
         "type": "\"double\""
        },
        {
         "metadata": "{}",
         "name": "duration_seconds",
         "type": "\"double\""
        },
        {
         "metadata": "{}",
         "name": "signal_hour",
         "type": "\"integer\""
        }
       ],
       "type": "table"
      }
     },
     "output_type": "display_data"
    }
   ],
   "source": [
    "%sql\n",
    "---Joining the users, signal_playbook, signal_recordings_header, and signal_recordings_detail tables together\n",
    "---Feature engineering while joining the tables together\n",
    "SELECT\n",
    "  ---Recording info\n",
    "  p.play_name AS gesture_play,\n",
    "\n",
    "  ---Playbook info\n",
    "  p.gesture,\n",
    "\n",
    "  ---Header info\n",
    "  h.signal_ID,\n",
    "  h.play_ID,\n",
    "  h.user_ID,\n",
    "  h.time_stamp, \n",
    "\n",
    "  ---Sensor aggregates\n",
    "  AVG(d.accel_x) AS avg_accel_x,\n",
    "  AVG(d.accel_y) AS avg_accel_y,\n",
    "  AVG(d.accel_z) AS avg_accel_z,\n",
    "  AVG(d.accel_grav_x) AS avg_grav_x,\n",
    "  AVG(d.accel_grav_y) AS avg_grav_y,\n",
    "  AVG(d.accel_grav_z) AS avg_grav_z,\n",
    "  AVG(d.rotation_rate_alpha) AS avg_rot_alpha,\n",
    "  AVG(d.rotation_rate_beta) AS avg_rot_beta,\n",
    "  AVG(d.rotation_rate_gamma) AS avg_rot_gamma,\n",
    "\n",
    "  ---Additional engineered features\n",
    "  (h.duration_ms / 1000) AS duration_seconds,\n",
    "  HOUR(h.time_stamp) AS signal_hour\n",
    "\n",
    "FROM databases.eshin2.signal_recordings_header h\n",
    "INNER JOIN databases.eshin2.signal_recordings_detail d ON h.signal_ID = d.signal_ID\n",
    "INNER JOIN databases.eshin2.signal_playbook p ON h.play_ID = p.play_ID\n",
    "INNER JOIN databases.eshin2.users u ON h.user_ID = u.user_ID\n",
    "\n",
    "GROUP BY\n",
    "  p.gesture, p.play_name, h.signal_ID, h.play_ID, h.user_ID, h.time_stamp, h.duration_ms"
   ]
  },
  {
   "cell_type": "markdown",
   "metadata": {
    "application/vnd.databricks.v1+cell": {
     "cellMetadata": {},
     "inputWidgets": {},
     "nuid": "3867922d-6a7b-463c-be12-69c9f4991f1b",
     "showTitle": false,
     "tableResultSettingsMap": {},
     "title": ""
    }
   },
   "source": [
    "After performing the SQL query that joined and engineered features from multiple tables, signal_recordings_header, signal_recordings_detail, signal_playbook, and users, I stored the result in _sqldf, the default variable for the SQL output in Databricks.\n",
    "\n",
    "This step assigns the resulting Spark DataFrame to a more meaningful and reusable variable name, signal_table, which makes the code cleaner and improves readability."
   ]
  },
  {
   "cell_type": "code",
   "execution_count": 0,
   "metadata": {
    "application/vnd.databricks.v1+cell": {
     "cellMetadata": {
      "byteLimit": 2048000,
      "rowLimit": 10000
     },
     "inputWidgets": {},
     "nuid": "a48f2bf7-9fc5-49b8-98a2-7f8b7765c7f2",
     "showTitle": false,
     "tableResultSettingsMap": {},
     "title": ""
    }
   },
   "outputs": [],
   "source": [
    "#_sqldf is the Spark DataFrame from the last %sql query\n",
    "signal_table = _sqldf  \n",
    "\n",
    "#Converting to Pandas df\n",
    "signal_table = signal_table.toPandas()"
   ]
  },
  {
   "cell_type": "markdown",
   "metadata": {
    "application/vnd.databricks.v1+cell": {
     "cellMetadata": {},
     "inputWidgets": {},
     "nuid": "8722cd66-5aa3-45a6-a4c1-865eed54a1ba",
     "showTitle": false,
     "tableResultSettingsMap": {},
     "title": ""
    }
   },
   "source": [
    "# Exploratory Data Analysis"
   ]
  },
  {
   "cell_type": "markdown",
   "metadata": {
    "application/vnd.databricks.v1+cell": {
     "cellMetadata": {},
     "inputWidgets": {},
     "nuid": "a5e3ad5a-bd9d-43b4-937e-c407c3d93d59",
     "showTitle": false,
     "tableResultSettingsMap": {},
     "title": ""
    }
   },
   "source": [
    "For the EDA, using grouping and visualizations, I explored how the features that I engineered varied across gestures to identify patterns that could help with gesture classification. I also checked for relationships and correlations between the engineered features to guide feature selection for predictive modeling."
   ]
  },
  {
   "cell_type": "code",
   "execution_count": 0,
   "metadata": {
    "application/vnd.databricks.v1+cell": {
     "cellMetadata": {
      "byteLimit": 2048000,
      "rowLimit": 10000
     },
     "inputWidgets": {},
     "nuid": "12f457ba-dfd8-42d3-aa29-1696340dea05",
     "showTitle": false,
     "tableResultSettingsMap": {},
     "title": ""
    }
   },
   "outputs": [],
   "source": [
    "#Loading libraries for exploratory data analysis\n",
    "import seaborn as sns\n",
    "import matplotlib.pyplot as plt\n",
    "import matplotlib.ticker as ticker"
   ]
  },
  {
   "cell_type": "markdown",
   "metadata": {
    "application/vnd.databricks.v1+cell": {
     "cellMetadata": {},
     "inputWidgets": {},
     "nuid": "e3f83db5-24ca-4ad3-859a-ffe8cc210bbf",
     "showTitle": false,
     "tableResultSettingsMap": {},
     "title": ""
    }
   },
   "source": [
    "The relationship between avg_accel_x and duration_seconds shows a moderate positive trend, suggesting that signals that have a higher average average acceleration in the X direction tend to have a longer duration in seconds."
   ]
  },
  {
   "cell_type": "code",
   "execution_count": 0,
   "metadata": {
    "application/vnd.databricks.v1+cell": {
     "cellMetadata": {
      "byteLimit": 2048000,
      "rowLimit": 10000
     },
     "inputWidgets": {},
     "nuid": "c9ff625b-29a4-4c61-8eca-f1b490b3405f",
     "showTitle": false,
     "tableResultSettingsMap": {},
     "title": ""
    }
   },
   "outputs": [
    {
     "output_type": "display_data",
     "data": {
      "image/png": "[encoded data removed]",
      "text/plain": [
       "<Figure size 1300x600 with 1 Axes>"
      ]
     },
     "metadata": {},
     "output_type": "display_data"
    }
   ],
   "source": [
    "#Single relationship between Average Acceleration (X) and Duration in Seconds\n",
    "plt.figure(figsize = (13, 6))\n",
    "sns.regplot(data = signal_table,\n",
    "            x = 'avg_accel_x',\n",
    "            y = 'duration_seconds',\n",
    "            color = 'green');\n",
    "\n",
    "plt.title('Average Acceleration (X) vs Duration in Seconds')\n",
    "\n",
    "plt.gca().xaxis.set_major_formatter(ticker.FuncFormatter(lambda x, _: f'{int(x):,}'))\n",
    "\n",
    "plt.gca().yaxis.set_major_formatter(ticker.FuncFormatter(lambda x, _: f'{int(x):,}'))"
   ]
  },
  {
   "cell_type": "markdown",
   "metadata": {
    "application/vnd.databricks.v1+cell": {
     "cellMetadata": {},
     "inputWidgets": {},
     "nuid": "08ad53c2-9766-4ccb-91fc-334aebc9269a",
     "showTitle": false,
     "tableResultSettingsMap": {},
     "title": ""
    }
   },
   "source": [
    "The relationship between avg_grav_y and duration_seconds shows little to no trend, suggesting that acceleration including gravity in the Y direction does not influence the duration of a signal."
   ]
  },
  {
   "cell_type": "code",
   "execution_count": 0,
   "metadata": {
    "application/vnd.databricks.v1+cell": {
     "cellMetadata": {
      "byteLimit": 2048000,
      "rowLimit": 10000
     },
     "inputWidgets": {},
     "nuid": "9e356016-540c-4f25-9249-e24c7dd1c9b5",
     "showTitle": false,
     "tableResultSettingsMap": {},
     "title": ""
    }
   },
   "outputs": [
    {
     "output_type": "display_data",
     "data": {
      "image/png": "[encoded data removed]",
      "text/plain": [
       "<Figure size 1300x600 with 1 Axes>"
      ]
     },
     "metadata": {},
     "output_type": "display_data"
    }
   ],
   "source": [
    "#Single relationship between Average Acceleration including Gravity (Y) and Duration in Seconds\n",
    "plt.figure(figsize = (13, 6))\n",
    "sns.regplot(data = signal_table,\n",
    "            x = 'avg_grav_y',\n",
    "            y = 'duration_seconds',\n",
    "            color = 'green');\n",
    "\n",
    "plt.title('Average Acceleration including Gravity (Y) vs Duration in Seconds')\n",
    "\n",
    "plt.gca().xaxis.set_major_formatter(ticker.FuncFormatter(lambda x, _: f'{int(x):,}'))\n",
    "\n",
    "plt.gca().yaxis.set_major_formatter(ticker.FuncFormatter(lambda x, _: f'{int(x):,}'))"
   ]
  },
  {
   "cell_type": "markdown",
   "metadata": {
    "application/vnd.databricks.v1+cell": {
     "cellMetadata": {},
     "inputWidgets": {},
     "nuid": "f86de6a4-3566-4125-8f33-3f7a0f4247cb",
     "showTitle": false,
     "tableResultSettingsMap": {},
     "title": ""
    }
   },
   "source": [
    "The relationship between avg_rot_gamma and duration_seconds shows a moderate positive trend, suggesting that signals that have a higher rotation rate along the gamma axis tend to have a longer duration in seconds."
   ]
  },
  {
   "cell_type": "code",
   "execution_count": 0,
   "metadata": {
    "application/vnd.databricks.v1+cell": {
     "cellMetadata": {
      "byteLimit": 2048000,
      "rowLimit": 10000
     },
     "inputWidgets": {},
     "nuid": "bb2f803c-660e-4d6d-808a-c69aff0b96f0",
     "showTitle": false,
     "tableResultSettingsMap": {},
     "title": ""
    }
   },
   "outputs": [
    {
     "output_type": "display_data",
     "data": {
      "image/png": "[encoded data removed]",
      "text/plain": [
       "<Figure size 1300x600 with 1 Axes>"
      ]
     },
     "metadata": {},
     "output_type": "display_data"
    }
   ],
   "source": [
    "#Single relationship between Average Rotation Rate (Gamma) vs Duration in Seconds\n",
    "plt.figure(figsize = (13, 6))\n",
    "sns.regplot(data = signal_table,\n",
    "            x = 'avg_rot_gamma',\n",
    "            y = 'duration_seconds',\n",
    "            color = 'green');\n",
    "\n",
    "plt.title('Average Rotation Rate (Gamma) vs Duration in Seconds')\n",
    "\n",
    "plt.gca().xaxis.set_major_formatter(ticker.FuncFormatter(lambda x, _: f'{int(x):,}'))\n",
    "\n",
    "plt.gca().yaxis.set_major_formatter(ticker.FuncFormatter(lambda x, _: f'{int(x):,}'))"
   ]
  },
  {
   "cell_type": "markdown",
   "metadata": {
    "application/vnd.databricks.v1+cell": {
     "cellMetadata": {},
     "inputWidgets": {},
     "nuid": "36e01175-f808-487e-aa78-2c5f6269792b",
     "showTitle": false,
     "tableResultSettingsMap": {},
     "title": ""
    }
   },
   "source": [
    "The median average acceleration in the X direction is fairly consistent across the three gesture plays, hovering around 0."
   ]
  },
  {
   "cell_type": "code",
   "execution_count": 0,
   "metadata": {
    "application/vnd.databricks.v1+cell": {
     "cellMetadata": {
      "byteLimit": 2048000,
      "rowLimit": 10000
     },
     "inputWidgets": {},
     "nuid": "a23e93df-a3c7-49f6-8d42-391ccc06962f",
     "showTitle": false,
     "tableResultSettingsMap": {},
     "title": ""
    }
   },
   "outputs": [
    {
     "output_type": "display_data",
     "data": {
      "image/png": "[encoded data removed]",
      "text/plain": [
       "<Figure size 1300x600 with 1 Axes>"
      ]
     },
     "metadata": {},
     "output_type": "display_data"
    }
   ],
   "source": [
    "#Distribution of Average Acceleration (X) by Gesture Play\n",
    "plt.figure(figsize=(13,6))\n",
    "sns.boxplot(data=signal_table, \n",
    "            x='gesture_play', \n",
    "            y='avg_accel_x',\n",
    "            color = 'green')\n",
    "\n",
    "plt.title('Average Acceleration (X) by Gesture Play');"
   ]
  },
  {
   "cell_type": "markdown",
   "metadata": {
    "application/vnd.databricks.v1+cell": {
     "cellMetadata": {},
     "inputWidgets": {},
     "nuid": "63c92e11-82aa-4c36-86de-2de7e619c39d",
     "showTitle": false,
     "tableResultSettingsMap": {},
     "title": ""
    }
   },
   "source": [
    "The median average acceleration, including gravity, in the Y direction is highest for the Irish Surge gesture play, with a median value near -1."
   ]
  },
  {
   "cell_type": "code",
   "execution_count": 0,
   "metadata": {
    "application/vnd.databricks.v1+cell": {
     "cellMetadata": {
      "byteLimit": 2048000,
      "rowLimit": 10000
     },
     "inputWidgets": {},
     "nuid": "cfac2944-e073-4b1c-b2c3-623f5c2eea21",
     "showTitle": false,
     "tableResultSettingsMap": {},
     "title": ""
    }
   },
   "outputs": [
    {
     "output_type": "display_data",
     "data": {
      "image/png": "[encoded data removed]",
      "text/plain": [
       "<Figure size 1300x600 with 1 Axes>"
      ]
     },
     "metadata": {},
     "output_type": "display_data"
    }
   ],
   "source": [
    "#Distribution of Average Acceleration including Gravity (Y) by Gesture Play\n",
    "plt.figure(figsize=(13,6))\n",
    "sns.boxplot(data=signal_table, \n",
    "            x='gesture_play', \n",
    "            y='avg_grav_y',\n",
    "            color = 'green')\n",
    "\n",
    "plt.title('Average Acceleration including Gravity (Y) by Gesture Play');"
   ]
  },
  {
   "cell_type": "markdown",
   "metadata": {
    "application/vnd.databricks.v1+cell": {
     "cellMetadata": {},
     "inputWidgets": {},
     "nuid": "08d3df84-afc4-43a6-a8ea-7999ad11ed85",
     "showTitle": false,
     "tableResultSettingsMap": {},
     "title": ""
    }
   },
   "source": [
    "The median average rotation rate along the gamma axis is highest for the Touchdown Halo gesture play, with a median value near 20."
   ]
  },
  {
   "cell_type": "code",
   "execution_count": 0,
   "metadata": {
    "application/vnd.databricks.v1+cell": {
     "cellMetadata": {
      "byteLimit": 2048000,
      "rowLimit": 10000
     },
     "inputWidgets": {},
     "nuid": "20d8c6d9-9dcb-4c06-a3a7-f7ea194adf1a",
     "showTitle": false,
     "tableResultSettingsMap": {},
     "title": ""
    }
   },
   "outputs": [
    {
     "output_type": "display_data",
     "data": {
      "image/png": "[encoded data removed]",
      "text/plain": [
       "<Figure size 1300x600 with 1 Axes>"
      ]
     },
     "metadata": {},
     "output_type": "display_data"
    }
   ],
   "source": [
    "#Distribution of Average Rotation Rate (Gamma) by Gesture Play\n",
    "plt.figure(figsize=(13,6))\n",
    "sns.boxplot(data=signal_table, \n",
    "            x='gesture_play', \n",
    "            y='avg_rot_gamma',\n",
    "            color = 'green')\n",
    "\n",
    "plt.title('Average Rotation Rate (Gamma) by Gesture Play');"
   ]
  },
  {
   "cell_type": "markdown",
   "metadata": {
    "application/vnd.databricks.v1+cell": {
     "cellMetadata": {},
     "inputWidgets": {},
     "nuid": "3b411e8d-5158-4dbb-ba76-e7eb61754903",
     "showTitle": false,
     "tableResultSettingsMap": {},
     "title": ""
    }
   },
   "source": [
    "The heatmap reveals that most of the selected numeric engineered features exhibit weak positive or negative correlations. The one notable exception is the moderate positive correlation between avg_rot_gamma and duration_seconds."
   ]
  },
  {
   "cell_type": "code",
   "execution_count": 0,
   "metadata": {
    "application/vnd.databricks.v1+cell": {
     "cellMetadata": {
      "byteLimit": 2048000,
      "rowLimit": 10000
     },
     "inputWidgets": {},
     "nuid": "540266c3-5282-439d-883d-6fa57dfdd9b6",
     "showTitle": false,
     "tableResultSettingsMap": {},
     "title": ""
    }
   },
   "outputs": [
    {
     "output_type": "display_data",
     "data": {
      "image/png": "[encoded data removed]",
      "text/plain": [
       "<Figure size 1300x600 with 2 Axes>"
      ]
     },
     "metadata": {},
     "output_type": "display_data"
    }
   ],
   "source": [
    "#Correlation among selected numeric engineered features\n",
    "plt.figure(figsize=(13,6))\n",
    "sns.heatmap(signal_table[['avg_accel_x', 'avg_grav_y', 'avg_rot_gamma', 'duration_seconds', 'signal_hour']].corr(),\n",
    "            annot=True, cmap='Greens')\n",
    "\n",
    "plt.title('Correlation Among Selected Numeric Engineered Features');"
   ]
  },
  {
   "cell_type": "markdown",
   "metadata": {
    "application/vnd.databricks.v1+cell": {
     "cellMetadata": {},
     "inputWidgets": {},
     "nuid": "dc0870ed-4a97-4d5b-b7b5-5578420c72e9",
     "showTitle": false,
     "tableResultSettingsMap": {},
     "title": ""
    }
   },
   "source": [
    "# Predictive Modeling"
   ]
  },
  {
   "cell_type": "markdown",
   "metadata": {
    "application/vnd.databricks.v1+cell": {
     "cellMetadata": {},
     "inputWidgets": {},
     "nuid": "306e2ba3-9c69-49d5-98c6-52cb21a29498",
     "showTitle": false,
     "tableResultSettingsMap": {},
     "title": ""
    }
   },
   "source": [
    "For the predictive modeling stage, I chose to use a Random Forest Classifier due to its ability to handle complex, non-linear relationships and its robustness to overfitting. Random forests are ensemble models that combine the predictions of multiple decision trees, making them well-suited for classification tasks with multiple input features. Given the nature of the engineered features and the potential interactions between them, the Random Forest may offer a good balance between accuracy and interpretability."
   ]
  },
  {
   "cell_type": "code",
   "execution_count": 0,
   "metadata": {
    "application/vnd.databricks.v1+cell": {
     "cellMetadata": {
      "byteLimit": 2048000,
      "rowLimit": 10000
     },
     "inputWidgets": {},
     "nuid": "e46817bd-6e43-40ba-934f-faa57e23187e",
     "showTitle": false,
     "tableResultSettingsMap": {},
     "title": ""
    }
   },
   "outputs": [],
   "source": [
    "#Loading libraries to create random forest classifier\n",
    "import pandas as pd\n",
    "import matplotlib.pyplot as plt\n",
    "import seaborn as sns\n",
    "import sklearn\n",
    "\n",
    "from sklearn.model_selection import train_test_split\n",
    "from sklearn.preprocessing import StandardScaler\n",
    "from sklearn.metrics import accuracy_score, confusion_matrix\n",
    "from sklearn.ensemble import RandomForestClassifier"
   ]
  },
  {
   "cell_type": "markdown",
   "metadata": {
    "application/vnd.databricks.v1+cell": {
     "cellMetadata": {},
     "inputWidgets": {},
     "nuid": "a57918e7-0c53-4bc2-aa59-9d8d7d8af9bd",
     "showTitle": false,
     "tableResultSettingsMap": {},
     "title": ""
    }
   },
   "source": [
    "To predict the type of gesture play, I used a Random Forest Classifier. I selected a variety of engineered features related to acceleration, gravity, rotation, signal duration, and time of recording, signal_hour, as input variables, x. The target variable, y, was the gesture play label.\n",
    "\n",
    "I split the data into training and testing sets using a 70/30 split to ensure the model could be evaluated on unseen data. Before training, I standardized the input features using StandardScaler to ensure all features were on a comparable scale, which can help improve model performance, especially for distance-based methods and ensure consistency in feature importance computation.\n",
    "\n",
    "I then trained the Random Forest Classifier with 100 estimators and a fixed random seed for reproducibility. After fitting the model, I evaluated it on the test set and computed the accuracy score to measure how well the classifier performed on unseen data.\n",
    "\n",
    "This approach was chosen because Random Forests are robust to overfitting, can model complex patterns, and naturally handle both linear and non-linear feature relationships, making them a strong candidate for this classification task.\n",
    "\n",
    "After training the model on a 70/30 train-test split, the Random Forest achieved an accuracy of 83.87%, suggesting strong performance in correctly predicting the gesture play labels from the selected engineered features."
   ]
  },
  {
   "cell_type": "code",
   "execution_count": 0,
   "metadata": {
    "application/vnd.databricks.v1+cell": {
     "cellMetadata": {
      "byteLimit": 2048000,
      "rowLimit": 10000
     },
     "inputWidgets": {},
     "nuid": "2f5e6eb9-250b-4b26-961a-590851eb8987",
     "showTitle": false,
     "tableResultSettingsMap": {},
     "title": ""
    }
   },
   "outputs": [
    {
     "output_type": "display_data",
     "data": {
      "application/vnd.jupyter.widget-view+json": {
       "model_id": "5d3806eae31f4cc68fad2b74d3f35d72",
       "version_major": 2,
       "version_minor": 0
      },
      "text/plain": [
       "Uploading artifacts:   0%|          | 0/1 [00:00<?, ?it/s]"
      ]
     },
     "metadata": {},
     "output_type": "display_data"
    },
    {
     "output_type": "stream",
     "name": "stdout",
     "output_type": "stream",
     "text": [
      "Accuracy: 83.87%\n"
     ]
    }
   ],
   "source": [
    "#Creating random forest classifier to predict the gesture plays\n",
    "x = signal_table[['avg_accel_x', 'avg_accel_y', 'avg_accel_z',\n",
    "    'avg_grav_x', 'avg_grav_y', 'avg_grav_z',\n",
    "    'avg_rot_alpha', 'avg_rot_beta', 'avg_rot_gamma',\n",
    "    'duration_seconds','signal_hour']]\n",
    "\n",
    "y = signal_table['gesture_play']\n",
    "\n",
    "x_train, x_test, y_train, y_test = train_test_split(x, y, test_size = 0.3, random_state = 1842)\n",
    "\n",
    "scaler = StandardScaler()\n",
    "x_train = scaler.fit_transform(x_train)\n",
    "x_test = scaler.transform(x_test)\n",
    "\n",
    "classifier = RandomForestClassifier(n_estimators = 100, random_state = 1842)\n",
    "classifier.fit(x_train, y_train)\n",
    "y_pred = classifier.predict(x_test)\n",
    "\n",
    "accuracy = accuracy_score(y_test, y_pred)\n",
    "print(f'Accuracy: {accuracy * 100:.2f}%')"
   ]
  },
  {
   "cell_type": "markdown",
   "metadata": {
    "application/vnd.databricks.v1+cell": {
     "cellMetadata": {},
     "inputWidgets": {},
     "nuid": "b28507f8-f8eb-482f-9392-a8beb17b2bb6",
     "showTitle": false,
     "tableResultSettingsMap": {},
     "title": ""
    }
   },
   "source": [
    "The confusion matrix heatmap shows that the model performed well across all gesture play classes. Specifically, the Collapse Left play was correctly predicted 8 times and misclassified once. The Irish Surge play was correctly identified 8 times, with 3 incorrect predictions. The Touchdown Halo play had the highest correct classification rate, with 10 correct predictions and only 1 misclassification."
   ]
  },
  {
   "cell_type": "code",
   "execution_count": 0,
   "metadata": {
    "application/vnd.databricks.v1+cell": {
     "cellMetadata": {
      "byteLimit": 2048000,
      "rowLimit": 10000
     },
     "inputWidgets": {},
     "nuid": "9c480610-6da7-49ad-a427-e677614047e2",
     "showTitle": false,
     "tableResultSettingsMap": {},
     "title": ""
    }
   },
   "outputs": [
    {
     "output_type": "display_data",
     "data": {
      "image/png": "[encoded data removed]",
      "text/plain": [
       "<Figure size 1300x600 with 1 Axes>"
      ]
     },
     "metadata": {},
     "output_type": "display_data"
    }
   ],
   "source": [
    "#Creating confusion matrix heatmap to assess the true and predicted labels of the gesture plays\n",
    "labels = sorted(y.unique())\n",
    "conf_matrix = confusion_matrix(y_test, y_pred)\n",
    "\n",
    "plt.figure(figsize=(13, 6))\n",
    "sns.heatmap(conf_matrix, annot=True, fmt='g', cmap='Greens', cbar=False,\n",
    "            xticklabels = labels, yticklabels = labels)\n",
    "\n",
    "plt.title('Confusion Matrix Heatmap')\n",
    "plt.xlabel('Predicted Labels')\n",
    "plt.ylabel('True Labels')\n",
    "plt.show()"
   ]
  },
  {
   "cell_type": "markdown",
   "metadata": {
    "application/vnd.databricks.v1+cell": {
     "cellMetadata": {},
     "inputWidgets": {},
     "nuid": "acda414c-ea91-4e43-89e5-4f540da01278",
     "showTitle": false,
     "tableResultSettingsMap": {},
     "title": ""
    }
   },
   "source": [
    "Based on the engineered feature importance graph, the average rotation rate along the alpha axis, avg_rot_alpha, contributed the most to the model’s predictions, indicating it played a key role in distinguishing between the different gesture plays."
   ]
  },
  {
   "cell_type": "code",
   "execution_count": 0,
   "metadata": {
    "application/vnd.databricks.v1+cell": {
     "cellMetadata": {
      "byteLimit": 2048000,
      "rowLimit": 10000
     },
     "inputWidgets": {},
     "nuid": "bf025b4f-60a8-4130-a533-d33919acd39e",
     "showTitle": false,
     "tableResultSettingsMap": {},
     "title": ""
    }
   },
   "outputs": [
    {
     "output_type": "display_data",
     "data": {
      "image/png": "[encoded data removed]",
      "text/plain": [
       "<Figure size 640x480 with 1 Axes>"
      ]
     },
     "metadata": {},
     "output_type": "display_data"
    }
   ],
   "source": [
    "#Visualizing the importance of each engineered feature\n",
    "feature_names = x.columns\n",
    "feature_importances = classifier.feature_importances_\n",
    "\n",
    "plt.barh(feature_names, feature_importances,\n",
    "         color = 'green')\n",
    "plt.xlabel('Feature Importance')\n",
    "plt.title('Feature Importance in Random Forest Classifier')\n",
    "plt.show()"
   ]
  }
 ],
 "metadata": {
  "application/vnd.databricks.v1+notebook": {
   "computePreferences": null,
   "dashboards": [],
   "environmentMetadata": {
    "base_environment": "",
    "environment_version": "2"
   },
   "inputWidgetPreferences": null,
   "language": "python",
   "notebookMetadata": {
    "mostRecentlyExecutedCommandWithImplicitDF": {
     "commandId": 5902835028024498,
     "dataframes": [
      "_sqldf"
     ]
    },
    "pythonIndentUnit": 4
   },
   "notebookName": "Final Project | EDA and Predictive Modeling",
   "widgets": {}
  },
  "language_info": {
   "name": "python"
  }
 },
 "nbformat": 4,
 "nbformat_minor": 0
}